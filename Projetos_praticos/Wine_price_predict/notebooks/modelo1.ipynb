{
 "cells": [
  {
   "cell_type": "code",
   "execution_count": 17,
   "id": "53bb3db6-90b7-4a14-ba38-f8929fb66497",
   "metadata": {},
   "outputs": [],
   "source": [
    "import pandas as pd\n",
    "import numpy as np\n",
    "\n",
    "df = pd.read_csv('wine_clean.csv')"
   ]
  },
  {
   "cell_type": "code",
   "execution_count": 18,
   "id": "139cdbdb-d903-45b9-ab6a-22eeff611d71",
   "metadata": {},
   "outputs": [
    {
     "data": {
      "text/html": [
       "<div>\n",
       "<style scoped>\n",
       "    .dataframe tbody tr th:only-of-type {\n",
       "        vertical-align: middle;\n",
       "    }\n",
       "\n",
       "    .dataframe tbody tr th {\n",
       "        vertical-align: top;\n",
       "    }\n",
       "\n",
       "    .dataframe thead th {\n",
       "        text-align: right;\n",
       "    }\n",
       "</style>\n",
       "<table border=\"1\" class=\"dataframe\">\n",
       "  <thead>\n",
       "    <tr style=\"text-align: right;\">\n",
       "      <th></th>\n",
       "      <th>country</th>\n",
       "      <th>description</th>\n",
       "      <th>designation</th>\n",
       "      <th>points</th>\n",
       "      <th>price</th>\n",
       "      <th>province</th>\n",
       "      <th>region_1</th>\n",
       "      <th>taster_name</th>\n",
       "      <th>taster_twitter_handle</th>\n",
       "      <th>title</th>\n",
       "      <th>variety</th>\n",
       "      <th>winery</th>\n",
       "    </tr>\n",
       "  </thead>\n",
       "  <tbody>\n",
       "    <tr>\n",
       "      <th>0</th>\n",
       "      <td>Italy</td>\n",
       "      <td>Aromas include tropical fruit, broom, brimston...</td>\n",
       "      <td>Vulkà Bianco</td>\n",
       "      <td>87</td>\n",
       "      <td>NaN</td>\n",
       "      <td>Sicily &amp; Sardinia</td>\n",
       "      <td>Etna</td>\n",
       "      <td>Kerin O’Keefe</td>\n",
       "      <td>@kerinokeefe</td>\n",
       "      <td>Nicosia 2013 Vulkà Bianco  (Etna)</td>\n",
       "      <td>White Blend</td>\n",
       "      <td>Nicosia</td>\n",
       "    </tr>\n",
       "    <tr>\n",
       "      <th>1</th>\n",
       "      <td>Portugal</td>\n",
       "      <td>This is ripe and fruity, a wine that is smooth...</td>\n",
       "      <td>Avidagos</td>\n",
       "      <td>87</td>\n",
       "      <td>15.0</td>\n",
       "      <td>Douro</td>\n",
       "      <td>NaN</td>\n",
       "      <td>Roger Voss</td>\n",
       "      <td>@vossroger</td>\n",
       "      <td>Quinta dos Avidagos 2011 Avidagos Red (Douro)</td>\n",
       "      <td>Portuguese Red</td>\n",
       "      <td>Quinta dos Avidagos</td>\n",
       "    </tr>\n",
       "    <tr>\n",
       "      <th>2</th>\n",
       "      <td>US</td>\n",
       "      <td>Tart and snappy, the flavors of lime flesh and...</td>\n",
       "      <td>NaN</td>\n",
       "      <td>87</td>\n",
       "      <td>14.0</td>\n",
       "      <td>Oregon</td>\n",
       "      <td>Willamette Valley</td>\n",
       "      <td>Paul Gregutt</td>\n",
       "      <td>@paulgwine</td>\n",
       "      <td>Rainstorm 2013 Pinot Gris (Willamette Valley)</td>\n",
       "      <td>Pinot Gris</td>\n",
       "      <td>Rainstorm</td>\n",
       "    </tr>\n",
       "    <tr>\n",
       "      <th>3</th>\n",
       "      <td>US</td>\n",
       "      <td>Pineapple rind, lemon pith and orange blossom ...</td>\n",
       "      <td>Reserve Late Harvest</td>\n",
       "      <td>87</td>\n",
       "      <td>13.0</td>\n",
       "      <td>Michigan</td>\n",
       "      <td>Lake Michigan Shore</td>\n",
       "      <td>Alexander Peartree</td>\n",
       "      <td>NaN</td>\n",
       "      <td>St. Julian 2013 Reserve Late Harvest Riesling ...</td>\n",
       "      <td>Riesling</td>\n",
       "      <td>St. Julian</td>\n",
       "    </tr>\n",
       "    <tr>\n",
       "      <th>4</th>\n",
       "      <td>US</td>\n",
       "      <td>Much like the regular bottling from 2012, this...</td>\n",
       "      <td>Vintner's Reserve Wild Child Block</td>\n",
       "      <td>87</td>\n",
       "      <td>65.0</td>\n",
       "      <td>Oregon</td>\n",
       "      <td>Willamette Valley</td>\n",
       "      <td>Paul Gregutt</td>\n",
       "      <td>@paulgwine</td>\n",
       "      <td>Sweet Cheeks 2012 Vintner's Reserve Wild Child...</td>\n",
       "      <td>Pinot Noir</td>\n",
       "      <td>Sweet Cheeks</td>\n",
       "    </tr>\n",
       "  </tbody>\n",
       "</table>\n",
       "</div>"
      ],
      "text/plain": [
       "    country                                        description  \\\n",
       "0     Italy  Aromas include tropical fruit, broom, brimston...   \n",
       "1  Portugal  This is ripe and fruity, a wine that is smooth...   \n",
       "2        US  Tart and snappy, the flavors of lime flesh and...   \n",
       "3        US  Pineapple rind, lemon pith and orange blossom ...   \n",
       "4        US  Much like the regular bottling from 2012, this...   \n",
       "\n",
       "                          designation  points  price           province  \\\n",
       "0                        Vulkà Bianco      87    NaN  Sicily & Sardinia   \n",
       "1                            Avidagos      87   15.0              Douro   \n",
       "2                                 NaN      87   14.0             Oregon   \n",
       "3                Reserve Late Harvest      87   13.0           Michigan   \n",
       "4  Vintner's Reserve Wild Child Block      87   65.0             Oregon   \n",
       "\n",
       "              region_1         taster_name taster_twitter_handle  \\\n",
       "0                 Etna       Kerin O’Keefe          @kerinokeefe   \n",
       "1                  NaN          Roger Voss            @vossroger   \n",
       "2    Willamette Valley        Paul Gregutt           @paulgwine    \n",
       "3  Lake Michigan Shore  Alexander Peartree                   NaN   \n",
       "4    Willamette Valley        Paul Gregutt           @paulgwine    \n",
       "\n",
       "                                               title         variety  \\\n",
       "0                  Nicosia 2013 Vulkà Bianco  (Etna)     White Blend   \n",
       "1      Quinta dos Avidagos 2011 Avidagos Red (Douro)  Portuguese Red   \n",
       "2      Rainstorm 2013 Pinot Gris (Willamette Valley)      Pinot Gris   \n",
       "3  St. Julian 2013 Reserve Late Harvest Riesling ...        Riesling   \n",
       "4  Sweet Cheeks 2012 Vintner's Reserve Wild Child...      Pinot Noir   \n",
       "\n",
       "                winery  \n",
       "0              Nicosia  \n",
       "1  Quinta dos Avidagos  \n",
       "2            Rainstorm  \n",
       "3           St. Julian  \n",
       "4         Sweet Cheeks  "
      ]
     },
     "execution_count": 18,
     "metadata": {},
     "output_type": "execute_result"
    }
   ],
   "source": [
    "df.head()"
   ]
  },
  {
   "cell_type": "code",
   "execution_count": 19,
   "id": "69a8505a-9b2b-4f80-a892-cd550d1506f9",
   "metadata": {},
   "outputs": [
    {
     "name": "stdout",
     "output_type": "stream",
     "text": [
      "<class 'pandas.core.frame.DataFrame'>\n",
      "RangeIndex: 119988 entries, 0 to 119987\n",
      "Data columns (total 12 columns):\n",
      " #   Column                 Non-Null Count   Dtype  \n",
      "---  ------                 --------------   -----  \n",
      " 0   country                119958 non-null  object \n",
      " 1   description            119988 non-null  object \n",
      " 2   designation            85443 non-null   object \n",
      " 3   points                 119988 non-null  int64  \n",
      " 4   price                  111593 non-null  float64\n",
      " 5   province               119958 non-null  object \n",
      " 6   region_1               101186 non-null  object \n",
      " 7   taster_name            95071 non-null   object \n",
      " 8   taster_twitter_handle  90542 non-null   object \n",
      " 9   title                  119988 non-null  object \n",
      " 10  variety                119987 non-null  object \n",
      " 11  winery                 119988 non-null  object \n",
      "dtypes: float64(1), int64(1), object(10)\n",
      "memory usage: 11.0+ MB\n"
     ]
    }
   ],
   "source": [
    "df.info()"
   ]
  },
  {
   "cell_type": "code",
   "execution_count": 20,
   "id": "2f77a2f0-963e-456b-946b-7a7169febd17",
   "metadata": {},
   "outputs": [
    {
     "data": {
      "text/plain": [
       "country                     30\n",
       "description                  0\n",
       "designation              34545\n",
       "points                       0\n",
       "price                     8395\n",
       "province                    30\n",
       "region_1                 18802\n",
       "taster_name              24917\n",
       "taster_twitter_handle    29446\n",
       "title                        0\n",
       "variety                      1\n",
       "winery                       0\n",
       "dtype: int64"
      ]
     },
     "execution_count": 20,
     "metadata": {},
     "output_type": "execute_result"
    }
   ],
   "source": [
    "df.isnull().sum()"
   ]
  },
  {
   "cell_type": "markdown",
   "id": "4e80b256-f969-4de4-93e4-90f41235833f",
   "metadata": {},
   "source": [
    "Ajustes finais"
   ]
  },
  {
   "cell_type": "code",
   "execution_count": 21,
   "id": "6182d412-5d56-4659-ae24-782f117adffc",
   "metadata": {},
   "outputs": [],
   "source": [
    "df['price'] = df.groupby(['country', 'points'])['price'].transform(lambda x: x.fillna(x.median()))"
   ]
  },
  {
   "cell_type": "code",
   "execution_count": 22,
   "id": "08144b43-f91a-4379-9c0f-1e5ef475643e",
   "metadata": {},
   "outputs": [
    {
     "data": {
      "text/plain": [
       "country                      0\n",
       "description                  0\n",
       "designation              34540\n",
       "points                       0\n",
       "price                        0\n",
       "province                     0\n",
       "region_1                 18770\n",
       "taster_name              24917\n",
       "taster_twitter_handle    29446\n",
       "title                        0\n",
       "variety                      1\n",
       "winery                       0\n",
       "dtype: int64"
      ]
     },
     "execution_count": 22,
     "metadata": {},
     "output_type": "execute_result"
    }
   ],
   "source": [
    "pricena = df.loc[df.price.isna()].index\n",
    "df.drop(index = pricena, inplace= True)\n",
    "df.isnull().sum()"
   ]
  },
  {
   "cell_type": "markdown",
   "id": "7b961dd4-fdea-4320-ac23-4606c010517c",
   "metadata": {},
   "source": [
    "Criando o modelo de Regressão linear com os dados não tão limpos"
   ]
  },
  {
   "cell_type": "code",
   "execution_count": 23,
   "id": "b2ce94d5-da24-4f7d-9f6e-afa57113dd80",
   "metadata": {},
   "outputs": [
    {
     "data": {
      "text/plain": [
       "(95964, 71973, 23991, 23992)"
      ]
     },
     "execution_count": 23,
     "metadata": {},
     "output_type": "execute_result"
    }
   ],
   "source": [
    "from sklearn.model_selection import train_test_split\n",
    "\n",
    "df_full_train, df_test = train_test_split(df, test_size = 0.2, random_state=42)\n",
    "df_train, df_val = train_test_split(df_full_train, test_size = 0.25, random_state=42)\n",
    "\n",
    "len(df_full_train), len(df_train), len(df_val), len(df_test)"
   ]
  },
  {
   "cell_type": "code",
   "execution_count": 24,
   "id": "511da318-6a38-4a7c-abb0-e3337b728723",
   "metadata": {},
   "outputs": [],
   "source": [
    "# Target variables\n",
    "y_train = np.log1p(df_train.price.values)\n",
    "y_val = np.log1p(df_val.price.values)\n",
    "y_test = np.log1p(df_test.price.values)\n",
    "\n",
    "del df_train['price']\n",
    "del df_val['price']\n",
    "del df_test['price']"
   ]
  },
  {
   "cell_type": "markdown",
   "id": "ae6184b7-4407-4995-9d6f-947d2ee0b67a",
   "metadata": {},
   "source": [
    "Aplicando One-hot Encoding"
   ]
  },
  {
   "cell_type": "code",
   "execution_count": 25,
   "id": "32a83b72-62ba-4f2f-97fa-53050b8ae8a7",
   "metadata": {},
   "outputs": [],
   "source": [
    "from sklearn.feature_extraction import DictVectorizer\n",
    "features= ['points', 'country', 'province']\n",
    "dv = DictVectorizer(sparse= True)\n",
    "# Transformando as features na matrix X\n",
    "train_dicts = df_train[features].to_dict(orient= 'records')\n",
    "X_train = dv.fit_transform(train_dicts)\n",
    "val_dicts = df_val[features].to_dict(orient= 'records')\n",
    "X_val = dv.transform(val_dicts)"
   ]
  },
  {
   "cell_type": "code",
   "execution_count": 26,
   "id": "cb50fc90-d4a8-4038-9fe9-9a371e84eb56",
   "metadata": {},
   "outputs": [],
   "source": [
    "from sklearn.linear_model import LinearRegression\n",
    "# Treinando o modelo\n",
    "model = LinearRegression()\n",
    "model.fit(X_train, y_train)\n",
    "y_pred = model.predict(X_val)"
   ]
  },
  {
   "cell_type": "code",
   "execution_count": 27,
   "id": "0ed9db13-c616-4f96-b088-52ee6facf9a7",
   "metadata": {},
   "outputs": [
    {
     "name": "stderr",
     "output_type": "stream",
     "text": [
      "/home/marcus-vinicius/anaconda3/lib/python3.11/site-packages/seaborn/_oldcore.py:1119: FutureWarning: use_inf_as_na option is deprecated and will be removed in a future version. Convert inf values to NaN before operating instead.\n",
      "  with pd.option_context('mode.use_inf_as_na', True):\n",
      "/home/marcus-vinicius/anaconda3/lib/python3.11/site-packages/seaborn/_oldcore.py:1119: FutureWarning: use_inf_as_na option is deprecated and will be removed in a future version. Convert inf values to NaN before operating instead.\n",
      "  with pd.option_context('mode.use_inf_as_na', True):\n"
     ]
    },
    {
     "data": {
      "text/plain": [
       "<Axes: ylabel='Count'>"
      ]
     },
     "execution_count": 27,
     "metadata": {},
     "output_type": "execute_result"
    },
    {
     "data": {
      "image/png": "[encoded data removed]",
      "text/plain": [
       "<Figure size 640x480 with 1 Axes>"
      ]
     },
     "metadata": {},
     "output_type": "display_data"
    }
   ],
   "source": [
    "import matplotlib.pyplot as plt\n",
    "import seaborn as sns\n",
    "sns.histplot(y_pred, color= 'red', alpha= 0.7, bins= 50)\n",
    "sns.histplot(y_val, color= 'blue', alpha= 0.3, bins= 50)"
   ]
  },
  {
   "cell_type": "code",
   "execution_count": 28,
   "id": "52aef2ec-6409-4e4e-b942-4bda90b178f8",
   "metadata": {},
   "outputs": [],
   "source": [
    "# Obter as previsões na escala de real\n",
    "y_pred_orig = np.expm1(y_pred) \n",
    "# Obter o valor real (target):\n",
    "y_val_orig= np.expm1(y_val)"
   ]
  },
  {
   "cell_type": "code",
   "execution_count": 29,
   "id": "19fdb80c-4af5-4bc1-8235-8ad5a967f451",
   "metadata": {},
   "outputs": [
    {
     "name": "stdout",
     "output_type": "stream",
     "text": [
      "MAE (Erro Absoluto Médio): $13.30\n",
      "RMSE (Raiz do Erro Quadrático Médio): $32.63\n"
     ]
    }
   ],
   "source": [
    "from sklearn.metrics import mean_squared_error, mean_absolute_error\n",
    "\n",
    "# Cálculo do MAE\n",
    "mae = mean_absolute_error(y_val_orig, y_pred_orig)\n",
    "print(f\"MAE (Erro Absoluto Médio): ${mae:.2f}\")\n",
    "\n",
    "# Cálculo do RMSE\n",
    "rmse = np.sqrt(mean_squared_error(y_val_orig, y_pred_orig))\n",
    "print(f\"RMSE (Raiz do Erro Quadrático Médio): ${rmse:.2f}\")"
   ]
  },
  {
   "cell_type": "code",
   "execution_count": 30,
   "id": "f6dd3cab-aa46-49d3-a18d-5e9cb22a5362",
   "metadata": {},
   "outputs": [
    {
     "name": "stderr",
     "output_type": "stream",
     "text": [
      "/home/marcus-vinicius/anaconda3/lib/python3.11/site-packages/seaborn/_oldcore.py:1119: FutureWarning: use_inf_as_na option is deprecated and will be removed in a future version. Convert inf values to NaN before operating instead.\n",
      "  with pd.option_context('mode.use_inf_as_na', True):\n",
      "/home/marcus-vinicius/anaconda3/lib/python3.11/site-packages/seaborn/_oldcore.py:1119: FutureWarning: use_inf_as_na option is deprecated and will be removed in a future version. Convert inf values to NaN before operating instead.\n",
      "  with pd.option_context('mode.use_inf_as_na', True):\n"
     ]
    },
    {
     "data": {
      "text/plain": [
       "<Axes: ylabel='Count'>"
      ]
     },
     "execution_count": 30,
     "metadata": {},
     "output_type": "execute_result"
    },
    {
     "data": {
      "image/png": "[encoded data removed]",
      "text/plain": [
       "<Figure size 640x480 with 1 Axes>"
      ]
     },
     "metadata": {},
     "output_type": "display_data"
    }
   ],
   "source": [
    "test_dicts = df_test[features].to_dict(orient= 'records')\n",
    "X_test = dv.transform(test_dicts)\n",
    "y_pred_test = model.predict(X_test)\n",
    "\n",
    "sns.histplot(y_pred_test, color= 'red', alpha= 0.7, bins= 50)\n",
    "sns.histplot(y_test, color= 'blue', alpha= 0.3, bins= 50)"
   ]
  },
  {
   "cell_type": "code",
   "execution_count": 31,
   "id": "a20174d6-2151-4fca-8674-2a19c9ffd840",
   "metadata": {},
   "outputs": [
    {
     "name": "stdout",
     "output_type": "stream",
     "text": [
      "MAE (Erro Absoluto Médio): $13.92\n",
      "RMSE (Raiz do Erro Quadrático Médio): $38.04\n"
     ]
    }
   ],
   "source": [
    "# Obter as previsões na escala de real\n",
    "y_pred_orig = np.expm1(y_pred_test) \n",
    "# Obter o valor real (target):\n",
    "y_test_orig= np.expm1(y_test)\n",
    "\n",
    "# Cálculo do MAE\n",
    "mae = mean_absolute_error(y_test_orig, y_pred_orig)\n",
    "print(f\"MAE (Erro Absoluto Médio): ${mae:.2f}\")\n",
    "\n",
    "# Cálculo do RMSE\n",
    "rmse = np.sqrt(mean_squared_error(y_test_orig, y_pred_orig))\n",
    "print(f\"RMSE (Raiz do Erro Quadrático Médio): ${rmse:.2f}\")"
   ]
  },
  {
   "cell_type": "code",
   "execution_count": null,
   "id": "4b036394-885e-4cf3-80f9-dcb3ac2ed31e",
   "metadata": {},
   "outputs": [],
   "source": []
  }
 ],
 "metadata": {
  "kernelspec": {
   "display_name": "Python 3 (ipykernel)",
   "language": "python",
   "name": "python3"
  },
  "language_info": {
   "codemirror_mode": {
    "name": "ipython",
    "version": 3
   },
   "file_extension": ".py",
   "mimetype": "text/x-python",
   "name": "python",
   "nbconvert_exporter": "python",
   "pygments_lexer": "ipython3",
   "version": "3.11.7"
  }
 },
 "nbformat": 4,
 "nbformat_minor": 5
}
