{
 "cells": [
  {
   "cell_type": "code",
   "execution_count": 13,
   "id": "e9cb3cd6-b760-4c53-81b9-e47c11dff3c7",
   "metadata": {},
   "outputs": [],
   "source": [
    "import pandas as pd\n",
    "import numpy as np\n",
    "\n",
    "df = pd.read_csv('wine_fullclean.csv')"
   ]
  },
  {
   "cell_type": "code",
   "execution_count": 14,
   "id": "3f2bb92a-d012-4dcb-8d38-ebc4b0757b24",
   "metadata": {},
   "outputs": [
    {
     "data": {
      "text/html": [
       "<div>\n",
       "<style scoped>\n",
       "    .dataframe tbody tr th:only-of-type {\n",
       "        vertical-align: middle;\n",
       "    }\n",
       "\n",
       "    .dataframe tbody tr th {\n",
       "        vertical-align: top;\n",
       "    }\n",
       "\n",
       "    .dataframe thead th {\n",
       "        text-align: right;\n",
       "    }\n",
       "</style>\n",
       "<table border=\"1\" class=\"dataframe\">\n",
       "  <thead>\n",
       "    <tr style=\"text-align: right;\">\n",
       "      <th></th>\n",
       "      <th>country</th>\n",
       "      <th>description</th>\n",
       "      <th>designation</th>\n",
       "      <th>points</th>\n",
       "      <th>price</th>\n",
       "      <th>province</th>\n",
       "      <th>region_1</th>\n",
       "      <th>taster_name</th>\n",
       "      <th>taster_twitter_handle</th>\n",
       "      <th>title</th>\n",
       "      <th>variety</th>\n",
       "      <th>winery</th>\n",
       "    </tr>\n",
       "  </thead>\n",
       "  <tbody>\n",
       "    <tr>\n",
       "      <th>0</th>\n",
       "      <td>portugal</td>\n",
       "      <td>this_is_ripe_and_fruity,_a_wine_that_is_smooth...</td>\n",
       "      <td>avidagos</td>\n",
       "      <td>87</td>\n",
       "      <td>15.0</td>\n",
       "      <td>douro</td>\n",
       "      <td>jerez</td>\n",
       "      <td>roger_voss</td>\n",
       "      <td>@vossroger</td>\n",
       "      <td>quinta_dos_avidagos_2011_avidagos_red_(douro)</td>\n",
       "      <td>portuguese_red</td>\n",
       "      <td>quinta_dos_avidagos</td>\n",
       "    </tr>\n",
       "    <tr>\n",
       "      <th>1</th>\n",
       "      <td>us</td>\n",
       "      <td>tart_and_snappy,_the_flavors_of_lime_flesh_and...</td>\n",
       "      <td>NaN</td>\n",
       "      <td>87</td>\n",
       "      <td>14.0</td>\n",
       "      <td>oregon</td>\n",
       "      <td>willamette_valley</td>\n",
       "      <td>paul_gregutt</td>\n",
       "      <td>@paulgwine</td>\n",
       "      <td>rainstorm_2013_pinot_gris_(willamette_valley)</td>\n",
       "      <td>pinot_gris</td>\n",
       "      <td>rainstorm</td>\n",
       "    </tr>\n",
       "    <tr>\n",
       "      <th>2</th>\n",
       "      <td>us</td>\n",
       "      <td>pineapple_rind,_lemon_pith_and_orange_blossom_...</td>\n",
       "      <td>reserve_late_harvest</td>\n",
       "      <td>87</td>\n",
       "      <td>13.0</td>\n",
       "      <td>michigan</td>\n",
       "      <td>lake_michigan_shore</td>\n",
       "      <td>alexander_peartree</td>\n",
       "      <td>NaN</td>\n",
       "      <td>st._julian_2013_reserve_late_harvest_riesling_...</td>\n",
       "      <td>riesling</td>\n",
       "      <td>st._julian</td>\n",
       "    </tr>\n",
       "    <tr>\n",
       "      <th>3</th>\n",
       "      <td>us</td>\n",
       "      <td>much_like_the_regular_bottling_from_2012,_this...</td>\n",
       "      <td>vintner's_reserve_wild_child_block</td>\n",
       "      <td>87</td>\n",
       "      <td>65.0</td>\n",
       "      <td>oregon</td>\n",
       "      <td>willamette_valley</td>\n",
       "      <td>paul_gregutt</td>\n",
       "      <td>@paulgwine</td>\n",
       "      <td>sweet_cheeks_2012_vintner's_reserve_wild_child...</td>\n",
       "      <td>pinot_noir</td>\n",
       "      <td>sweet_cheeks</td>\n",
       "    </tr>\n",
       "    <tr>\n",
       "      <th>4</th>\n",
       "      <td>spain</td>\n",
       "      <td>blackberry_and_raspberry_aromas_show_a_typical...</td>\n",
       "      <td>ars_in_vitro</td>\n",
       "      <td>87</td>\n",
       "      <td>15.0</td>\n",
       "      <td>northern_spain</td>\n",
       "      <td>navarra</td>\n",
       "      <td>michael_schachner</td>\n",
       "      <td>@wineschach</td>\n",
       "      <td>tandem_2011_ars_in_vitro_tempranillo_merlot_(n...</td>\n",
       "      <td>tempranillo_merlot</td>\n",
       "      <td>tandem</td>\n",
       "    </tr>\n",
       "  </tbody>\n",
       "</table>\n",
       "</div>"
      ],
      "text/plain": [
       "    country                                        description  \\\n",
       "0  portugal  this_is_ripe_and_fruity,_a_wine_that_is_smooth...   \n",
       "1        us  tart_and_snappy,_the_flavors_of_lime_flesh_and...   \n",
       "2        us  pineapple_rind,_lemon_pith_and_orange_blossom_...   \n",
       "3        us  much_like_the_regular_bottling_from_2012,_this...   \n",
       "4     spain  blackberry_and_raspberry_aromas_show_a_typical...   \n",
       "\n",
       "                          designation  points  price        province  \\\n",
       "0                            avidagos      87   15.0           douro   \n",
       "1                                 NaN      87   14.0          oregon   \n",
       "2                reserve_late_harvest      87   13.0        michigan   \n",
       "3  vintner's_reserve_wild_child_block      87   65.0          oregon   \n",
       "4                        ars_in_vitro      87   15.0  northern_spain   \n",
       "\n",
       "              region_1         taster_name taster_twitter_handle  \\\n",
       "0                jerez          roger_voss            @vossroger   \n",
       "1    willamette_valley        paul_gregutt           @paulgwine    \n",
       "2  lake_michigan_shore  alexander_peartree                   NaN   \n",
       "3    willamette_valley        paul_gregutt           @paulgwine    \n",
       "4              navarra   michael_schachner           @wineschach   \n",
       "\n",
       "                                               title             variety  \\\n",
       "0      quinta_dos_avidagos_2011_avidagos_red_(douro)      portuguese_red   \n",
       "1      rainstorm_2013_pinot_gris_(willamette_valley)          pinot_gris   \n",
       "2  st._julian_2013_reserve_late_harvest_riesling_...            riesling   \n",
       "3  sweet_cheeks_2012_vintner's_reserve_wild_child...          pinot_noir   \n",
       "4  tandem_2011_ars_in_vitro_tempranillo_merlot_(n...  tempranillo_merlot   \n",
       "\n",
       "                winery  \n",
       "0  quinta_dos_avidagos  \n",
       "1            rainstorm  \n",
       "2           st._julian  \n",
       "3         sweet_cheeks  \n",
       "4               tandem  "
      ]
     },
     "execution_count": 14,
     "metadata": {},
     "output_type": "execute_result"
    }
   ],
   "source": [
    "df.head()"
   ]
  },
  {
   "cell_type": "code",
   "execution_count": 15,
   "id": "f15eba1c-2809-46eb-8b10-f030b07d5a70",
   "metadata": {},
   "outputs": [
    {
     "name": "stdout",
     "output_type": "stream",
     "text": [
      "<class 'pandas.core.frame.DataFrame'>\n",
      "RangeIndex: 108016 entries, 0 to 108015\n",
      "Data columns (total 12 columns):\n",
      " #   Column                 Non-Null Count   Dtype  \n",
      "---  ------                 --------------   -----  \n",
      " 0   country                108016 non-null  object \n",
      " 1   description            108016 non-null  object \n",
      " 2   designation            76649 non-null   object \n",
      " 3   points                 108016 non-null  int64  \n",
      " 4   price                  108016 non-null  float64\n",
      " 5   province               108016 non-null  object \n",
      " 6   region_1               108016 non-null  object \n",
      " 7   taster_name            85353 non-null   object \n",
      " 8   taster_twitter_handle  80984 non-null   object \n",
      " 9   title                  108016 non-null  object \n",
      " 10  variety                108016 non-null  object \n",
      " 11  winery                 108016 non-null  object \n",
      "dtypes: float64(1), int64(1), object(10)\n",
      "memory usage: 9.9+ MB\n"
     ]
    }
   ],
   "source": [
    "df.info()"
   ]
  },
  {
   "cell_type": "code",
   "execution_count": 16,
   "id": "9f28c625-7775-4a78-88d1-4f8193c403e3",
   "metadata": {},
   "outputs": [
    {
     "data": {
      "text/plain": [
       "country                      0\n",
       "description                  0\n",
       "designation              31367\n",
       "points                       0\n",
       "price                        0\n",
       "province                     0\n",
       "region_1                     0\n",
       "taster_name              22663\n",
       "taster_twitter_handle    27032\n",
       "title                        0\n",
       "variety                      0\n",
       "winery                       0\n",
       "dtype: int64"
      ]
     },
     "execution_count": 16,
     "metadata": {},
     "output_type": "execute_result"
    }
   ],
   "source": [
    "df.isnull().sum()"
   ]
  },
  {
   "cell_type": "code",
   "execution_count": 17,
   "id": "3f3ee64a-5351-461e-9f4e-faa6f1f38b11",
   "metadata": {},
   "outputs": [],
   "source": [
    "from sklearn.model_selection import train_test_split\n",
    "\n",
    "df_full_train, df_test = train_test_split(df, test_size = 0.2, random_state=42)\n",
    "df_train, df_val = train_test_split(df_full_train, test_size = 0.25, random_state=42)\n",
    "\n",
    "len(df_full_train), len(df_train), len(df_val), len(df_test)\n",
    "\n",
    "y_train = np.log1p(df_train.price.values)\n",
    "y_val = np.log1p(df_val.price.values)\n",
    "y_test = np.log1p(df_test.price.values)\n",
    "\n",
    "del df_train['price']\n",
    "del df_val['price']\n",
    "del df_test['price']"
   ]
  },
  {
   "cell_type": "code",
   "execution_count": 18,
   "id": "b03721cd-b6f1-4d66-b3d7-6f92ec399e5e",
   "metadata": {},
   "outputs": [],
   "source": [
    "from sklearn.feature_extraction import DictVectorizer\n",
    "dv = DictVectorizer(sparse= True)\n",
    "features = ['points', 'country', 'province']\n",
    "\n",
    "train_dicts = df_train[features].to_dict(orient= 'records')\n",
    "X_train = dv.fit_transform(train_dicts)\n",
    "val_dicts = df_val[features].to_dict(orient= 'records')\n",
    "X_val = dv.transform(val_dicts)"
   ]
  },
  {
   "cell_type": "code",
   "execution_count": 19,
   "id": "85623fd8-e284-4e1a-8dfa-bef69d663ac4",
   "metadata": {},
   "outputs": [
    {
     "name": "stderr",
     "output_type": "stream",
     "text": [
      "/home/marcus-vinicius/anaconda3/lib/python3.11/site-packages/seaborn/_oldcore.py:1119: FutureWarning: use_inf_as_na option is deprecated and will be removed in a future version. Convert inf values to NaN before operating instead.\n",
      "  with pd.option_context('mode.use_inf_as_na', True):\n",
      "/home/marcus-vinicius/anaconda3/lib/python3.11/site-packages/seaborn/_oldcore.py:1119: FutureWarning: use_inf_as_na option is deprecated and will be removed in a future version. Convert inf values to NaN before operating instead.\n",
      "  with pd.option_context('mode.use_inf_as_na', True):\n"
     ]
    },
    {
     "data": {
      "text/plain": [
       "<Axes: ylabel='Count'>"
      ]
     },
     "execution_count": 19,
     "metadata": {},
     "output_type": "execute_result"
    },
    {
     "data": {
      "image/png": "[encoded data removed]",
      "text/plain": [
       "<Figure size 640x480 with 1 Axes>"
      ]
     },
     "metadata": {},
     "output_type": "display_data"
    }
   ],
   "source": [
    "from sklearn.linear_model import LinearRegression\n",
    "import matplotlib.pyplot as plt\n",
    "import seaborn as sns\n",
    "\n",
    "model = LinearRegression()\n",
    "model.fit(X_train, y_train)\n",
    "y_pred = model.predict(X_val)\n",
    "\n",
    "sns.histplot(y_pred, color= 'red', alpha= 0.7, bins= 50)\n",
    "sns.histplot(y_val, color= 'blue', alpha= 0.3, bins= 50)"
   ]
  },
  {
   "cell_type": "code",
   "execution_count": 20,
   "id": "85d05d1e-44e2-488c-a8b3-e6ef2d95ee70",
   "metadata": {},
   "outputs": [
    {
     "name": "stdout",
     "output_type": "stream",
     "text": [
      "MAE (Erro Absoluto Médio): $11.52\n",
      "RMSE (Raiz do Erro Quadrático Médio): $17.95\n"
     ]
    }
   ],
   "source": [
    "# Obter as previsões na escala de real\n",
    "y_pred_orig = np.expm1(y_pred) \n",
    "# Obter o valor real (target):\n",
    "y_val_orig= np.expm1(y_val)\n",
    "\n",
    "from sklearn.metrics import mean_squared_error, mean_absolute_error\n",
    "# Cálculo do MAE\n",
    "mae = mean_absolute_error(y_val_orig, y_pred_orig)\n",
    "print(f\"MAE (Erro Absoluto Médio): ${mae:.2f}\")\n",
    "\n",
    "# Cálculo do RMSE\n",
    "rmse = np.sqrt(mean_squared_error(y_val_orig, y_pred_orig))\n",
    "print(f\"RMSE (Raiz do Erro Quadrático Médio): ${rmse:.2f}\")"
   ]
  },
  {
   "cell_type": "markdown",
   "id": "18924580-475d-48ab-9ad1-9062062ae0c2",
   "metadata": {},
   "source": [
    "    Podemos perceber uma boa diferença nesse modelo.\n",
    "    o fato desse dataset ser mais 'Limpo' que o anterior,\n",
    "    prova um forte impacto no pré-processamento dos dados.\n",
    "    Vamos agora explorar novas features para aprimorar-lo."
   ]
  },
  {
   "cell_type": "markdown",
   "id": "d6654107-ddcd-45e8-9a9a-e8c006e45ca2",
   "metadata": {},
   "source": [
    "Vamos procurar novas Features para então melhorar meu modelo"
   ]
  },
  {
   "cell_type": "code",
   "execution_count": 21,
   "id": "2fefd4ba-6cc4-43ec-bd45-c8622e9879fa",
   "metadata": {},
   "outputs": [
    {
     "name": "stdout",
     "output_type": "stream",
     "text": [
      "<class 'pandas.core.frame.DataFrame'>\n",
      "RangeIndex: 108016 entries, 0 to 108015\n",
      "Data columns (total 12 columns):\n",
      " #   Column                 Non-Null Count   Dtype  \n",
      "---  ------                 --------------   -----  \n",
      " 0   country                108016 non-null  object \n",
      " 1   description            108016 non-null  object \n",
      " 2   designation            76649 non-null   object \n",
      " 3   points                 108016 non-null  int64  \n",
      " 4   price                  108016 non-null  float64\n",
      " 5   province               108016 non-null  object \n",
      " 6   region_1               108016 non-null  object \n",
      " 7   taster_name            85353 non-null   object \n",
      " 8   taster_twitter_handle  80984 non-null   object \n",
      " 9   title                  108016 non-null  object \n",
      " 10  variety                108016 non-null  object \n",
      " 11  winery                 108016 non-null  object \n",
      "dtypes: float64(1), int64(1), object(10)\n",
      "memory usage: 9.9+ MB\n"
     ]
    },
    {
     "data": {
      "text/plain": [
       "(None, ['points', 'country', 'province'])"
      ]
     },
     "execution_count": 21,
     "metadata": {},
     "output_type": "execute_result"
    }
   ],
   "source": [
    "df.info(), features"
   ]
  },
  {
   "cell_type": "code",
   "execution_count": 22,
   "id": "227ee35c-498c-4a99-b097-e1138b9b75d2",
   "metadata": {},
   "outputs": [
    {
     "data": {
      "text/plain": [
       "country                      0\n",
       "description                  0\n",
       "designation              31367\n",
       "points                       0\n",
       "price                        0\n",
       "province                     0\n",
       "region_1                     0\n",
       "taster_name              22663\n",
       "taster_twitter_handle    27032\n",
       "title                        0\n",
       "variety                      0\n",
       "winery                       0\n",
       "dtype: int64"
      ]
     },
     "execution_count": 22,
     "metadata": {},
     "output_type": "execute_result"
    }
   ],
   "source": [
    "df.isnull().sum()"
   ]
  },
  {
   "cell_type": "code",
   "execution_count": 23,
   "id": "b4e378ec-d3c6-445b-8a54-8a8989c39cbc",
   "metadata": {},
   "outputs": [
    {
     "data": {
      "text/plain": [
       "(653,\n",
       " variety\n",
       " pinot_noir                  11336\n",
       " chardonnay                   9915\n",
       " cabernet_sauvignon           8314\n",
       " red_blend                    7573\n",
       " bordeaux_style_red_blend     4720\n",
       "                             ...  \n",
       " vidadillo                       1\n",
       " bastardo                        1\n",
       " schwartzriesling                1\n",
       " albanello                       1\n",
       " bobal_cabernet_sauvignon        1\n",
       " Name: count, Length: 653, dtype: int64)"
      ]
     },
     "execution_count": 23,
     "metadata": {},
     "output_type": "execute_result"
    }
   ],
   "source": [
    "df.variety.nunique(),df.variety.value_counts() "
   ]
  },
  {
   "cell_type": "code",
   "execution_count": 27,
   "id": "c20be0af-9fa7-440b-bf87-dadae10f8621",
   "metadata": {},
   "outputs": [
    {
     "data": {
      "text/plain": [
       "(1182,\n",
       " region_1\n",
       " mendoza                                     6170\n",
       " jerez                                       4483\n",
       " california                                  4331\n",
       " napa_valley                                 4037\n",
       " columbia_valley_(wa)                        3758\n",
       "                                             ... \n",
       " vin_de_pays_de_la_haute_vallée_du_gassac       1\n",
       " galluccio                                      1\n",
       " lamezia                                        1\n",
       " trentino_superiore                             1\n",
       " grands_echezeaux                               1\n",
       " Name: count, Length: 1182, dtype: int64)"
      ]
     },
     "execution_count": 27,
     "metadata": {},
     "output_type": "execute_result"
    }
   ],
   "source": [
    "df.region_1.nunique(),df.region_1.value_counts() "
   ]
  },
  {
   "cell_type": "code",
   "execution_count": 24,
   "id": "23d89214-4cbd-4ee6-9820-ef10d9ac4543",
   "metadata": {},
   "outputs": [
    {
     "data": {
      "text/plain": [
       "(15552,\n",
       " winery\n",
       " wines_&_winemakers       199\n",
       " testarossa               195\n",
       " dfj_vinhos               194\n",
       " chateau_ste._michelle    169\n",
       " concha_y_toro            150\n",
       "                         ... \n",
       " pavilion_crossing          1\n",
       " joyful_noise               1\n",
       " simple_solace              1\n",
       " los_andes                  1\n",
       " penedo_borges              1\n",
       " Name: count, Length: 15552, dtype: int64)"
      ]
     },
     "execution_count": 24,
     "metadata": {},
     "output_type": "execute_result"
    }
   ],
   "source": [
    "df.winery.nunique(),df.winery.value_counts() "
   ]
  },
  {
   "cell_type": "code",
   "execution_count": 25,
   "id": "9ccbd8c2-5801-4416-942c-2ac8a2de6566",
   "metadata": {},
   "outputs": [
    {
     "data": {
      "text/plain": [
       "(107079,\n",
       " title\n",
       " gloria_ferrer_nv_sonoma_brut_sparkling_(sonoma_county)                         9\n",
       " segura_viudas_nv_aria_estate_extra_dry_sparkling_(cava)                        7\n",
       " segura_viudas_nv_extra_dry_sparkling_(cava)                                    7\n",
       " bailly_lapierre_nv_brut__(crémant_de_bourgogne)                                6\n",
       " gloria_ferrer_nv_blanc_de_noirs_sparkling_(carneros)                           6\n",
       "                                                                               ..\n",
       " carr_2005_syrah_(santa_ynez_valley)                                            1\n",
       " bortolomiol_2008_cartizze_dry__(prosecco_superiore_di_cartizze)                1\n",
       " bonterra_2006_syrah_(mendocino_county)                                         1\n",
       " boedecker_cellars_2006_shea_vineyard_pinot_noir_(willamette_valley)            1\n",
       " domaine_schoffit_2012_lieu_dit_harth_cuvée_caroline_gewurztraminer_(alsace)    1\n",
       " Name: count, Length: 107079, dtype: int64)"
      ]
     },
     "execution_count": 25,
     "metadata": {},
     "output_type": "execute_result"
    }
   ],
   "source": [
    "df.title.nunique(),df.title.value_counts() "
   ]
  },
  {
   "cell_type": "code",
   "execution_count": 26,
   "id": "a5c4f001-9b3b-4e6e-8af5-bae29035c8e3",
   "metadata": {},
   "outputs": [
    {
     "data": {
      "text/plain": [
       "title       3.916888\n",
       "winery      2.243058\n",
       "region_1    0.627563\n",
       "variety     0.314155\n",
       "province    0.281673\n",
       "country     0.105968\n",
       "dtype: float64"
      ]
     },
     "execution_count": 26,
     "metadata": {},
     "output_type": "execute_result"
    }
   ],
   "source": [
    "from sklearn.metrics import mutual_info_score\n",
    "def mutual_info(x):\n",
    "    return mutual_info_score(x, df_full_train.price)\n",
    "categorical_var = [\n",
    "    'country', 'province',\n",
    "       'region_1', 'title', 'variety',\n",
    "       'winery']\n",
    "mi = df_full_train[categorical_var].apply(mutual_info).sort_values(ascending= False)\n",
    "mi"
   ]
  },
  {
   "cell_type": "markdown",
   "id": "6f47f12c-e534-4ed6-ac35-19263b014cb3",
   "metadata": {},
   "source": [
    "Vamos testar novas features = ['variety', 'region_1', 'winery'].\n",
    "porem vamos fazer primeiro uma por uma assim analisamos a diferença nos pesos de cada"
   ]
  },
  {
   "cell_type": "code",
   "execution_count": 29,
   "id": "99df34b7-cdbf-4061-bbce-47fe1d1c3552",
   "metadata": {},
   "outputs": [
    {
     "name": "stderr",
     "output_type": "stream",
     "text": [
      "/home/marcus-vinicius/anaconda3/lib/python3.11/site-packages/seaborn/_oldcore.py:1119: FutureWarning: use_inf_as_na option is deprecated and will be removed in a future version. Convert inf values to NaN before operating instead.\n",
      "  with pd.option_context('mode.use_inf_as_na', True):\n",
      "/home/marcus-vinicius/anaconda3/lib/python3.11/site-packages/seaborn/_oldcore.py:1119: FutureWarning: use_inf_as_na option is deprecated and will be removed in a future version. Convert inf values to NaN before operating instead.\n",
      "  with pd.option_context('mode.use_inf_as_na', True):\n"
     ]
    },
    {
     "data": {
      "text/plain": [
       "<Axes: ylabel='Count'>"
      ]
     },
     "execution_count": 29,
     "metadata": {},
     "output_type": "execute_result"
    },
    {
     "data": {
      "image/png": "[encoded data removed]",
      "text/plain": [
       "<Figure size 640x480 with 1 Axes>"
      ]
     },
     "metadata": {},
     "output_type": "display_data"
    }
   ],
   "source": [
    "features1 = features + ['variety']\n",
    "train_dicts = df_train[features1].to_dict(orient= 'records')\n",
    "X_train = dv.fit_transform(train_dicts)\n",
    "val_dicts = df_val[features1].to_dict(orient= 'records')\n",
    "X_val = dv.transform(val_dicts)\n",
    "\n",
    "model = LinearRegression()\n",
    "model.fit(X_train, y_train)\n",
    "y_pred = model.predict(X_val)\n",
    "\n",
    "sns.histplot(y_pred, color= 'red', alpha= 0.7, bins= 50)\n",
    "sns.histplot(y_val, color= 'blue', alpha= 0.3, bins= 50)"
   ]
  },
  {
   "cell_type": "code",
   "execution_count": 30,
   "id": "86704b6b-bb66-4825-8471-f38176ebebb7",
   "metadata": {},
   "outputs": [
    {
     "name": "stdout",
     "output_type": "stream",
     "text": [
      "MAE (Erro Absoluto Médio): $10.73\n",
      "RMSE (Raiz do Erro Quadrático Médio): $16.90\n"
     ]
    }
   ],
   "source": [
    "# Obter as previsões na escala de real\n",
    "y_pred_orig = np.expm1(y_pred) \n",
    "# Obter o valor real (target):\n",
    "y_val_orig= np.expm1(y_val)\n",
    "\n",
    "# Cálculo do MAE\n",
    "mae = mean_absolute_error(y_val_orig, y_pred_orig)\n",
    "print(f\"MAE (Erro Absoluto Médio): ${mae:.2f}\")\n",
    "\n",
    "# Cálculo do RMSE\n",
    "rmse = np.sqrt(mean_squared_error(y_val_orig, y_pred_orig))\n",
    "print(f\"RMSE (Raiz do Erro Quadrático Médio): ${rmse:.2f}\")"
   ]
  },
  {
   "cell_type": "markdown",
   "id": "07bc504e-5b4f-44fe-a5fb-1d13bc2a44cc",
   "metadata": {},
   "source": [
    "Testando 'region_1' feature"
   ]
  },
  {
   "cell_type": "code",
   "execution_count": 31,
   "id": "ac1cc79f-9f53-4ee5-b61a-d39ec745bb35",
   "metadata": {},
   "outputs": [
    {
     "name": "stderr",
     "output_type": "stream",
     "text": [
      "/home/marcus-vinicius/anaconda3/lib/python3.11/site-packages/seaborn/_oldcore.py:1119: FutureWarning: use_inf_as_na option is deprecated and will be removed in a future version. Convert inf values to NaN before operating instead.\n",
      "  with pd.option_context('mode.use_inf_as_na', True):\n",
      "/home/marcus-vinicius/anaconda3/lib/python3.11/site-packages/seaborn/_oldcore.py:1119: FutureWarning: use_inf_as_na option is deprecated and will be removed in a future version. Convert inf values to NaN before operating instead.\n",
      "  with pd.option_context('mode.use_inf_as_na', True):\n"
     ]
    },
    {
     "data": {
      "text/plain": [
       "<Axes: ylabel='Count'>"
      ]
     },
     "execution_count": 31,
     "metadata": {},
     "output_type": "execute_result"
    },
    {
     "data": {
      "image/png": "[encoded data removed]",
      "text/plain": [
       "<Figure size 640x480 with 1 Axes>"
      ]
     },
     "metadata": {},
     "output_type": "display_data"
    }
   ],
   "source": [
    "features1 = features + ['region_1']\n",
    "train_dicts = df_train[features1].to_dict(orient= 'records')\n",
    "X_train = dv.fit_transform(train_dicts)\n",
    "val_dicts = df_val[features1].to_dict(orient= 'records')\n",
    "X_val = dv.transform(val_dicts)\n",
    "\n",
    "model = LinearRegression()\n",
    "model.fit(X_train, y_train)\n",
    "y_pred = model.predict(X_val)\n",
    "\n",
    "sns.histplot(y_pred, color= 'red', alpha= 0.7, bins= 50)\n",
    "sns.histplot(y_val, color= 'blue', alpha= 0.3, bins= 50)"
   ]
  },
  {
   "cell_type": "code",
   "execution_count": 32,
   "id": "f016c883-aeb4-486e-a37d-6e8e94fd9c8c",
   "metadata": {},
   "outputs": [
    {
     "name": "stdout",
     "output_type": "stream",
     "text": [
      "MAE (Erro Absoluto Médio): $10.08\n",
      "RMSE (Raiz do Erro Quadrático Médio): $15.98\n"
     ]
    }
   ],
   "source": [
    "# Obter as previsões na escala de real\n",
    "y_pred_orig = np.expm1(y_pred) \n",
    "# Obter o valor real (target):\n",
    "y_val_orig= np.expm1(y_val)\n",
    "\n",
    "# Cálculo do MAE\n",
    "mae = mean_absolute_error(y_val_orig, y_pred_orig)\n",
    "print(f\"MAE (Erro Absoluto Médio): ${mae:.2f}\")\n",
    "\n",
    "# Cálculo do RMSE\n",
    "rmse = np.sqrt(mean_squared_error(y_val_orig, y_pred_orig))\n",
    "print(f\"RMSE (Raiz do Erro Quadrático Médio): ${rmse:.2f}\")"
   ]
  },
  {
   "cell_type": "markdown",
   "id": "19e9c2ec-c369-4e41-8ff8-3230f709552c",
   "metadata": {},
   "source": [
    "Testando 'winery' feature"
   ]
  },
  {
   "cell_type": "code",
   "execution_count": 33,
   "id": "b3804446-4617-424f-93ff-18d402cb839e",
   "metadata": {},
   "outputs": [
    {
     "name": "stderr",
     "output_type": "stream",
     "text": [
      "/home/marcus-vinicius/anaconda3/lib/python3.11/site-packages/seaborn/_oldcore.py:1119: FutureWarning: use_inf_as_na option is deprecated and will be removed in a future version. Convert inf values to NaN before operating instead.\n",
      "  with pd.option_context('mode.use_inf_as_na', True):\n",
      "/home/marcus-vinicius/anaconda3/lib/python3.11/site-packages/seaborn/_oldcore.py:1119: FutureWarning: use_inf_as_na option is deprecated and will be removed in a future version. Convert inf values to NaN before operating instead.\n",
      "  with pd.option_context('mode.use_inf_as_na', True):\n"
     ]
    },
    {
     "data": {
      "text/plain": [
       "<Axes: ylabel='Count'>"
      ]
     },
     "execution_count": 33,
     "metadata": {},
     "output_type": "execute_result"
    },
    {
     "data": {
      "image/png": "[encoded data removed]",
      "text/plain": [
       "<Figure size 640x480 with 1 Axes>"
      ]
     },
     "metadata": {},
     "output_type": "display_data"
    }
   ],
   "source": [
    "features1 = features + ['winery']\n",
    "train_dicts = df_train[features1].to_dict(orient= 'records')\n",
    "X_train = dv.fit_transform(train_dicts)\n",
    "val_dicts = df_val[features1].to_dict(orient= 'records')\n",
    "X_val = dv.transform(val_dicts)\n",
    "\n",
    "model = LinearRegression()\n",
    "model.fit(X_train, y_train)\n",
    "y_pred = model.predict(X_val)\n",
    "\n",
    "sns.histplot(y_pred, color= 'red', alpha= 0.7, bins= 50)\n",
    "sns.histplot(y_val, color= 'blue', alpha= 0.3, bins= 50)"
   ]
  },
  {
   "cell_type": "code",
   "execution_count": 34,
   "id": "bc7ab874-a73d-4d42-8ef1-b4ab28ade48a",
   "metadata": {},
   "outputs": [
    {
     "name": "stdout",
     "output_type": "stream",
     "text": [
      "MAE (Erro Absoluto Médio): $9.81\n",
      "RMSE (Raiz do Erro Quadrático Médio): $15.87\n"
     ]
    }
   ],
   "source": [
    "# Obter as previsões na escala de real\n",
    "y_pred_orig = np.expm1(y_pred) \n",
    "# Obter o valor real (target):\n",
    "y_val_orig= np.expm1(y_val)\n",
    "\n",
    "# Cálculo do MAE\n",
    "mae = mean_absolute_error(y_val_orig, y_pred_orig)\n",
    "print(f\"MAE (Erro Absoluto Médio): ${mae:.2f}\")\n",
    "\n",
    "# Cálculo do RMSE\n",
    "rmse = np.sqrt(mean_squared_error(y_val_orig, y_pred_orig))\n",
    "print(f\"RMSE (Raiz do Erro Quadrático Médio): ${rmse:.2f}\")"
   ]
  },
  {
   "cell_type": "markdown",
   "id": "82a12e6b-18a0-4658-8eaa-2d2a4b96229a",
   "metadata": {},
   "source": [
    "Juntando todas as features"
   ]
  },
  {
   "cell_type": "code",
   "execution_count": 36,
   "id": "a261a433-143c-42bc-ac00-27ac58296609",
   "metadata": {},
   "outputs": [
    {
     "name": "stderr",
     "output_type": "stream",
     "text": [
      "/home/marcus-vinicius/anaconda3/lib/python3.11/site-packages/seaborn/_oldcore.py:1119: FutureWarning: use_inf_as_na option is deprecated and will be removed in a future version. Convert inf values to NaN before operating instead.\n",
      "  with pd.option_context('mode.use_inf_as_na', True):\n",
      "/home/marcus-vinicius/anaconda3/lib/python3.11/site-packages/seaborn/_oldcore.py:1119: FutureWarning: use_inf_as_na option is deprecated and will be removed in a future version. Convert inf values to NaN before operating instead.\n",
      "  with pd.option_context('mode.use_inf_as_na', True):\n"
     ]
    },
    {
     "data": {
      "text/plain": [
       "<Axes: ylabel='Count'>"
      ]
     },
     "execution_count": 36,
     "metadata": {},
     "output_type": "execute_result"
    },
    {
     "data": {
      "image/png": "[encoded data removed]",
      "text/plain": [
       "<Figure size 640x480 with 1 Axes>"
      ]
     },
     "metadata": {},
     "output_type": "display_data"
    }
   ],
   "source": [
    "features1 = features + ['variety', 'region_1', 'winery']\n",
    "train_dicts = df_train[features1].to_dict(orient= 'records')\n",
    "X_train = dv.fit_transform(train_dicts)\n",
    "val_dicts = df_val[features1].to_dict(orient= 'records')\n",
    "X_val = dv.transform(val_dicts)\n",
    "\n",
    "model = LinearRegression()\n",
    "model.fit(X_train, y_train)\n",
    "y_pred = model.predict(X_val)\n",
    "\n",
    "sns.histplot(y_pred, color= 'red', alpha= 0.7, bins= 50)\n",
    "sns.histplot(y_val, color= 'blue', alpha= 0.3, bins= 50)"
   ]
  },
  {
   "cell_type": "code",
   "execution_count": 37,
   "id": "b898c177-f0e1-49a4-a81d-515ab9e4213a",
   "metadata": {},
   "outputs": [
    {
     "name": "stdout",
     "output_type": "stream",
     "text": [
      "MAE (Erro Absoluto Médio): $8.47\n",
      "RMSE (Raiz do Erro Quadrático Médio): $13.93\n"
     ]
    }
   ],
   "source": [
    "# Obter as previsões na escala de real\n",
    "y_pred_orig = np.expm1(y_pred) \n",
    "# Obter o valor real (target):\n",
    "y_val_orig= np.expm1(y_val)\n",
    "\n",
    "# Cálculo do MAE\n",
    "mae = mean_absolute_error(y_val_orig, y_pred_orig)\n",
    "print(f\"MAE (Erro Absoluto Médio): ${mae:.2f}\")\n",
    "\n",
    "# Cálculo do RMSE\n",
    "rmse = np.sqrt(mean_squared_error(y_val_orig, y_pred_orig))\n",
    "print(f\"RMSE (Raiz do Erro Quadrático Médio): ${rmse:.2f}\")"
   ]
  },
  {
   "cell_type": "code",
   "execution_count": 39,
   "id": "0358deb6-0201-4b7c-acb2-e42566f8a8fc",
   "metadata": {},
   "outputs": [
    {
     "name": "stderr",
     "output_type": "stream",
     "text": [
      "/home/marcus-vinicius/anaconda3/lib/python3.11/site-packages/seaborn/_oldcore.py:1119: FutureWarning: use_inf_as_na option is deprecated and will be removed in a future version. Convert inf values to NaN before operating instead.\n",
      "  with pd.option_context('mode.use_inf_as_na', True):\n",
      "/home/marcus-vinicius/anaconda3/lib/python3.11/site-packages/seaborn/_oldcore.py:1119: FutureWarning: use_inf_as_na option is deprecated and will be removed in a future version. Convert inf values to NaN before operating instead.\n",
      "  with pd.option_context('mode.use_inf_as_na', True):\n"
     ]
    },
    {
     "data": {
      "text/plain": [
       "<Axes: ylabel='Count'>"
      ]
     },
     "execution_count": 39,
     "metadata": {},
     "output_type": "execute_result"
    },
    {
     "data": {
      "image/png": "[encoded data removed]",
      "text/plain": [
       "<Figure size 640x480 with 1 Axes>"
      ]
     },
     "metadata": {},
     "output_type": "display_data"
    }
   ],
   "source": [
    "test_dicts = df_test[features1].to_dict(orient= 'records')\n",
    "X_test = dv.transform(test_dicts)\n",
    "y_pred_test = model.predict(X_test)\n",
    "\n",
    "sns.histplot(y_pred_test, color= 'red', alpha= 0.7, bins= 50)\n",
    "sns.histplot(y_test, color= 'blue', alpha= 0.3, bins= 50)"
   ]
  },
  {
   "cell_type": "code",
   "execution_count": 40,
   "id": "82181c40-e1f9-4097-9311-c90f60f6c517",
   "metadata": {},
   "outputs": [
    {
     "name": "stdout",
     "output_type": "stream",
     "text": [
      "MAE (Erro Absoluto Médio): $8.57\n",
      "RMSE (Raiz do Erro Quadrático Médio): $13.99\n"
     ]
    }
   ],
   "source": [
    "# Obter as previsões na escala de real\n",
    "y_pred_orig = np.expm1(y_pred_test) \n",
    "# Obter o valor real (target):\n",
    "y_test_orig= np.expm1(y_test)\n",
    "\n",
    "# Cálculo do MAE\n",
    "mae = mean_absolute_error(y_test_orig, y_pred_orig)\n",
    "print(f\"MAE (Erro Absoluto Médio): ${mae:.2f}\")\n",
    "\n",
    "# Cálculo do RMSE\n",
    "rmse = np.sqrt(mean_squared_error(y_test_orig, y_pred_orig))\n",
    "print(f\"RMSE (Raiz do Erro Quadrático Médio): ${rmse:.2f}\")"
   ]
  },
  {
   "cell_type": "code",
   "execution_count": null,
   "id": "fad48224-b999-44bd-a4db-29585be671d1",
   "metadata": {},
   "outputs": [],
   "source": []
  }
 ],
 "metadata": {
  "kernelspec": {
   "display_name": "Python 3 (ipykernel)",
   "language": "python",
   "name": "python3"
  },
  "language_info": {
   "codemirror_mode": {
    "name": "ipython",
    "version": 3
   },
   "file_extension": ".py",
   "mimetype": "text/x-python",
   "name": "python",
   "nbconvert_exporter": "python",
   "pygments_lexer": "ipython3",
   "version": "3.11.7"
  }
 },
 "nbformat": 4,
 "nbformat_minor": 5
}
