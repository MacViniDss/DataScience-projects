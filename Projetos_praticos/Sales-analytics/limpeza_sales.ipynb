{
 "cells": [
  {
   "cell_type": "code",
   "execution_count": 46,
   "id": "0a8d56ad-f2e4-497f-b447-68f2ff7bd73e",
   "metadata": {},
   "outputs": [],
   "source": [
    "import pandas as pd\n",
    "\n",
    "df = pd.read_csv('sales_data.csv')"
   ]
  },
  {
   "cell_type": "code",
   "execution_count": 47,
   "id": "d3a38ca2-9af3-4c2f-8213-f2a93f4e39e3",
   "metadata": {},
   "outputs": [
    {
     "name": "stdout",
     "output_type": "stream",
     "text": [
      "<class 'pandas.core.frame.DataFrame'>\n",
      "RangeIndex: 1000 entries, 0 to 999\n",
      "Data columns (total 14 columns):\n",
      " #   Column                Non-Null Count  Dtype  \n",
      "---  ------                --------------  -----  \n",
      " 0   Product_ID            1000 non-null   int64  \n",
      " 1   Sale_Date             1000 non-null   object \n",
      " 2   Sales_Rep             1000 non-null   object \n",
      " 3   Region                1000 non-null   object \n",
      " 4   Sales_Amount          1000 non-null   float64\n",
      " 5   Quantity_Sold         1000 non-null   int64  \n",
      " 6   Product_Category      1000 non-null   object \n",
      " 7   Unit_Cost             1000 non-null   float64\n",
      " 8   Unit_Price            1000 non-null   float64\n",
      " 9   Customer_Type         1000 non-null   object \n",
      " 10  Discount              1000 non-null   float64\n",
      " 11  Payment_Method        1000 non-null   object \n",
      " 12  Sales_Channel         1000 non-null   object \n",
      " 13  Region_and_Sales_Rep  1000 non-null   object \n",
      "dtypes: float64(4), int64(2), object(8)\n",
      "memory usage: 109.5+ KB\n"
     ]
    }
   ],
   "source": [
    "df.info()"
   ]
  },
  {
   "cell_type": "code",
   "execution_count": 48,
   "id": "74125fad-7da1-4eae-91d7-198a50845e8c",
   "metadata": {},
   "outputs": [
    {
     "data": {
      "text/plain": [
       "Product_ID              False\n",
       "Sale_Date               False\n",
       "Sales_Rep               False\n",
       "Region                  False\n",
       "Sales_Amount            False\n",
       "Quantity_Sold           False\n",
       "Product_Category        False\n",
       "Unit_Cost               False\n",
       "Unit_Price              False\n",
       "Customer_Type           False\n",
       "Discount                False\n",
       "Payment_Method          False\n",
       "Sales_Channel           False\n",
       "Region_and_Sales_Rep    False\n",
       "dtype: bool"
      ]
     },
     "execution_count": 48,
     "metadata": {},
     "output_type": "execute_result"
    }
   ],
   "source": [
    "df.isna().any()"
   ]
  },
  {
   "cell_type": "code",
   "execution_count": 49,
   "id": "dd33c90e-ca77-4d0f-88b6-602c1422df9b",
   "metadata": {},
   "outputs": [
    {
     "data": {
      "text/html": [
       "<div>\n",
       "<style scoped>\n",
       "    .dataframe tbody tr th:only-of-type {\n",
       "        vertical-align: middle;\n",
       "    }\n",
       "\n",
       "    .dataframe tbody tr th {\n",
       "        vertical-align: top;\n",
       "    }\n",
       "\n",
       "    .dataframe thead th {\n",
       "        text-align: right;\n",
       "    }\n",
       "</style>\n",
       "<table border=\"1\" class=\"dataframe\">\n",
       "  <thead>\n",
       "    <tr style=\"text-align: right;\">\n",
       "      <th></th>\n",
       "      <th>Product_ID</th>\n",
       "      <th>Sale_Date</th>\n",
       "      <th>Sales_Rep</th>\n",
       "      <th>Region</th>\n",
       "      <th>Sales_Amount</th>\n",
       "      <th>Quantity_Sold</th>\n",
       "      <th>Product_Category</th>\n",
       "      <th>Unit_Cost</th>\n",
       "      <th>Unit_Price</th>\n",
       "      <th>Customer_Type</th>\n",
       "      <th>Discount</th>\n",
       "      <th>Payment_Method</th>\n",
       "      <th>Sales_Channel</th>\n",
       "      <th>Region_and_Sales_Rep</th>\n",
       "    </tr>\n",
       "  </thead>\n",
       "  <tbody>\n",
       "    <tr>\n",
       "      <th>0</th>\n",
       "      <td>1052</td>\n",
       "      <td>2023-02-03</td>\n",
       "      <td>Bob</td>\n",
       "      <td>North</td>\n",
       "      <td>5053.97</td>\n",
       "      <td>18</td>\n",
       "      <td>Furniture</td>\n",
       "      <td>152.75</td>\n",
       "      <td>267.22</td>\n",
       "      <td>Returning</td>\n",
       "      <td>0.09</td>\n",
       "      <td>Cash</td>\n",
       "      <td>Online</td>\n",
       "      <td>North-Bob</td>\n",
       "    </tr>\n",
       "    <tr>\n",
       "      <th>1</th>\n",
       "      <td>1093</td>\n",
       "      <td>2023-04-21</td>\n",
       "      <td>Bob</td>\n",
       "      <td>West</td>\n",
       "      <td>4384.02</td>\n",
       "      <td>17</td>\n",
       "      <td>Furniture</td>\n",
       "      <td>3816.39</td>\n",
       "      <td>4209.44</td>\n",
       "      <td>Returning</td>\n",
       "      <td>0.11</td>\n",
       "      <td>Cash</td>\n",
       "      <td>Retail</td>\n",
       "      <td>West-Bob</td>\n",
       "    </tr>\n",
       "    <tr>\n",
       "      <th>2</th>\n",
       "      <td>1015</td>\n",
       "      <td>2023-09-21</td>\n",
       "      <td>David</td>\n",
       "      <td>South</td>\n",
       "      <td>4631.23</td>\n",
       "      <td>30</td>\n",
       "      <td>Food</td>\n",
       "      <td>261.56</td>\n",
       "      <td>371.40</td>\n",
       "      <td>Returning</td>\n",
       "      <td>0.20</td>\n",
       "      <td>Bank Transfer</td>\n",
       "      <td>Retail</td>\n",
       "      <td>South-David</td>\n",
       "    </tr>\n",
       "    <tr>\n",
       "      <th>3</th>\n",
       "      <td>1072</td>\n",
       "      <td>2023-08-24</td>\n",
       "      <td>Bob</td>\n",
       "      <td>South</td>\n",
       "      <td>2167.94</td>\n",
       "      <td>39</td>\n",
       "      <td>Clothing</td>\n",
       "      <td>4330.03</td>\n",
       "      <td>4467.75</td>\n",
       "      <td>New</td>\n",
       "      <td>0.02</td>\n",
       "      <td>Credit Card</td>\n",
       "      <td>Retail</td>\n",
       "      <td>South-Bob</td>\n",
       "    </tr>\n",
       "    <tr>\n",
       "      <th>4</th>\n",
       "      <td>1061</td>\n",
       "      <td>2023-03-24</td>\n",
       "      <td>Charlie</td>\n",
       "      <td>East</td>\n",
       "      <td>3750.20</td>\n",
       "      <td>13</td>\n",
       "      <td>Electronics</td>\n",
       "      <td>637.37</td>\n",
       "      <td>692.71</td>\n",
       "      <td>New</td>\n",
       "      <td>0.08</td>\n",
       "      <td>Credit Card</td>\n",
       "      <td>Online</td>\n",
       "      <td>East-Charlie</td>\n",
       "    </tr>\n",
       "  </tbody>\n",
       "</table>\n",
       "</div>"
      ],
      "text/plain": [
       "   Product_ID   Sale_Date Sales_Rep Region  Sales_Amount  Quantity_Sold  \\\n",
       "0        1052  2023-02-03       Bob  North       5053.97             18   \n",
       "1        1093  2023-04-21       Bob   West       4384.02             17   \n",
       "2        1015  2023-09-21     David  South       4631.23             30   \n",
       "3        1072  2023-08-24       Bob  South       2167.94             39   \n",
       "4        1061  2023-03-24   Charlie   East       3750.20             13   \n",
       "\n",
       "  Product_Category  Unit_Cost  Unit_Price Customer_Type  Discount  \\\n",
       "0        Furniture     152.75      267.22     Returning      0.09   \n",
       "1        Furniture    3816.39     4209.44     Returning      0.11   \n",
       "2             Food     261.56      371.40     Returning      0.20   \n",
       "3         Clothing    4330.03     4467.75           New      0.02   \n",
       "4      Electronics     637.37      692.71           New      0.08   \n",
       "\n",
       "  Payment_Method Sales_Channel Region_and_Sales_Rep  \n",
       "0           Cash        Online            North-Bob  \n",
       "1           Cash        Retail             West-Bob  \n",
       "2  Bank Transfer        Retail          South-David  \n",
       "3    Credit Card        Retail            South-Bob  \n",
       "4    Credit Card        Online         East-Charlie  "
      ]
     },
     "execution_count": 49,
     "metadata": {},
     "output_type": "execute_result"
    }
   ],
   "source": [
    "df.head()"
   ]
  },
  {
   "cell_type": "code",
   "execution_count": 50,
   "id": "e0b53dbd-32fb-4e43-a510-53af7d2e5f4c",
   "metadata": {},
   "outputs": [],
   "source": [
    "df.columns = df.columns.str.lower()\n",
    "categorical = list(df.dtypes[df.dtypes == 'object'].index)\n",
    "for c in categorical:\n",
    "    df[c] = df[c].str.lower().str.replace(' ', '_')"
   ]
  },
  {
   "cell_type": "code",
   "execution_count": 51,
   "id": "e1d174a8-4ecb-4f98-add1-837474a28c04",
   "metadata": {},
   "outputs": [
    {
     "data": {
      "text/html": [
       "<div>\n",
       "<style scoped>\n",
       "    .dataframe tbody tr th:only-of-type {\n",
       "        vertical-align: middle;\n",
       "    }\n",
       "\n",
       "    .dataframe tbody tr th {\n",
       "        vertical-align: top;\n",
       "    }\n",
       "\n",
       "    .dataframe thead th {\n",
       "        text-align: right;\n",
       "    }\n",
       "</style>\n",
       "<table border=\"1\" class=\"dataframe\">\n",
       "  <thead>\n",
       "    <tr style=\"text-align: right;\">\n",
       "      <th></th>\n",
       "      <th>product_id</th>\n",
       "      <th>sale_date</th>\n",
       "      <th>sales_rep</th>\n",
       "      <th>region</th>\n",
       "      <th>sales_amount</th>\n",
       "      <th>quantity_sold</th>\n",
       "      <th>product_category</th>\n",
       "      <th>unit_cost</th>\n",
       "      <th>unit_price</th>\n",
       "      <th>customer_type</th>\n",
       "      <th>discount</th>\n",
       "      <th>payment_method</th>\n",
       "      <th>sales_channel</th>\n",
       "      <th>region_and_sales_rep</th>\n",
       "    </tr>\n",
       "  </thead>\n",
       "  <tbody>\n",
       "    <tr>\n",
       "      <th>0</th>\n",
       "      <td>1052</td>\n",
       "      <td>2023-02-03</td>\n",
       "      <td>bob</td>\n",
       "      <td>north</td>\n",
       "      <td>5053.97</td>\n",
       "      <td>18</td>\n",
       "      <td>furniture</td>\n",
       "      <td>152.75</td>\n",
       "      <td>267.22</td>\n",
       "      <td>returning</td>\n",
       "      <td>0.09</td>\n",
       "      <td>cash</td>\n",
       "      <td>online</td>\n",
       "      <td>north-bob</td>\n",
       "    </tr>\n",
       "    <tr>\n",
       "      <th>1</th>\n",
       "      <td>1093</td>\n",
       "      <td>2023-04-21</td>\n",
       "      <td>bob</td>\n",
       "      <td>west</td>\n",
       "      <td>4384.02</td>\n",
       "      <td>17</td>\n",
       "      <td>furniture</td>\n",
       "      <td>3816.39</td>\n",
       "      <td>4209.44</td>\n",
       "      <td>returning</td>\n",
       "      <td>0.11</td>\n",
       "      <td>cash</td>\n",
       "      <td>retail</td>\n",
       "      <td>west-bob</td>\n",
       "    </tr>\n",
       "    <tr>\n",
       "      <th>2</th>\n",
       "      <td>1015</td>\n",
       "      <td>2023-09-21</td>\n",
       "      <td>david</td>\n",
       "      <td>south</td>\n",
       "      <td>4631.23</td>\n",
       "      <td>30</td>\n",
       "      <td>food</td>\n",
       "      <td>261.56</td>\n",
       "      <td>371.40</td>\n",
       "      <td>returning</td>\n",
       "      <td>0.20</td>\n",
       "      <td>bank_transfer</td>\n",
       "      <td>retail</td>\n",
       "      <td>south-david</td>\n",
       "    </tr>\n",
       "    <tr>\n",
       "      <th>3</th>\n",
       "      <td>1072</td>\n",
       "      <td>2023-08-24</td>\n",
       "      <td>bob</td>\n",
       "      <td>south</td>\n",
       "      <td>2167.94</td>\n",
       "      <td>39</td>\n",
       "      <td>clothing</td>\n",
       "      <td>4330.03</td>\n",
       "      <td>4467.75</td>\n",
       "      <td>new</td>\n",
       "      <td>0.02</td>\n",
       "      <td>credit_card</td>\n",
       "      <td>retail</td>\n",
       "      <td>south-bob</td>\n",
       "    </tr>\n",
       "    <tr>\n",
       "      <th>4</th>\n",
       "      <td>1061</td>\n",
       "      <td>2023-03-24</td>\n",
       "      <td>charlie</td>\n",
       "      <td>east</td>\n",
       "      <td>3750.20</td>\n",
       "      <td>13</td>\n",
       "      <td>electronics</td>\n",
       "      <td>637.37</td>\n",
       "      <td>692.71</td>\n",
       "      <td>new</td>\n",
       "      <td>0.08</td>\n",
       "      <td>credit_card</td>\n",
       "      <td>online</td>\n",
       "      <td>east-charlie</td>\n",
       "    </tr>\n",
       "  </tbody>\n",
       "</table>\n",
       "</div>"
      ],
      "text/plain": [
       "   product_id   sale_date sales_rep region  sales_amount  quantity_sold  \\\n",
       "0        1052  2023-02-03       bob  north       5053.97             18   \n",
       "1        1093  2023-04-21       bob   west       4384.02             17   \n",
       "2        1015  2023-09-21     david  south       4631.23             30   \n",
       "3        1072  2023-08-24       bob  south       2167.94             39   \n",
       "4        1061  2023-03-24   charlie   east       3750.20             13   \n",
       "\n",
       "  product_category  unit_cost  unit_price customer_type  discount  \\\n",
       "0        furniture     152.75      267.22     returning      0.09   \n",
       "1        furniture    3816.39     4209.44     returning      0.11   \n",
       "2             food     261.56      371.40     returning      0.20   \n",
       "3         clothing    4330.03     4467.75           new      0.02   \n",
       "4      electronics     637.37      692.71           new      0.08   \n",
       "\n",
       "  payment_method sales_channel region_and_sales_rep  \n",
       "0           cash        online            north-bob  \n",
       "1           cash        retail             west-bob  \n",
       "2  bank_transfer        retail          south-david  \n",
       "3    credit_card        retail            south-bob  \n",
       "4    credit_card        online         east-charlie  "
      ]
     },
     "execution_count": 51,
     "metadata": {},
     "output_type": "execute_result"
    }
   ],
   "source": [
    "df.head()"
   ]
  },
  {
   "cell_type": "markdown",
   "id": "630c0f0e-05c3-489a-85ea-2ece61418f28",
   "metadata": {},
   "source": [
    "PRODUTOS COM MAIS VENDAS"
   ]
  },
  {
   "cell_type": "code",
   "execution_count": 52,
   "id": "42226646-aea4-48f9-8a9e-3aa0b3351e0c",
   "metadata": {},
   "outputs": [
    {
     "data": {
      "text/plain": [
       "product_id\n",
       "1090    590\n",
       "1092    548\n",
       "1062    506\n",
       "1099    502\n",
       "1058    452\n",
       "       ... \n",
       "1083    125\n",
       "1065    105\n",
       "1011     75\n",
       "1043     65\n",
       "1031     64\n",
       "Name: quantity_sold, Length: 100, dtype: int64"
      ]
     },
     "execution_count": 52,
     "metadata": {},
     "output_type": "execute_result"
    }
   ],
   "source": [
    "df.groupby('product_id')['quantity_sold'].sum().sort_values(ascending = False)"
   ]
  },
  {
   "cell_type": "code",
   "execution_count": 53,
   "id": "2f907b09-2a95-4319-9b05-2dfb119c98f3",
   "metadata": {},
   "outputs": [
    {
     "data": {
      "text/plain": [
       "product_id\n",
       "1099    101773.87\n",
       "1092     90615.62\n",
       "1033     89130.41\n",
       "1090     88043.25\n",
       "1086     82269.71\n",
       "          ...    \n",
       "1011     19099.43\n",
       "1079     17828.37\n",
       "1041     10682.46\n",
       "1031      9782.28\n",
       "1083      8059.05\n",
       "Name: sales_amount, Length: 100, dtype: float64"
      ]
     },
     "execution_count": 53,
     "metadata": {},
     "output_type": "execute_result"
    }
   ],
   "source": [
    "df.groupby('product_id')['sales_amount'].sum().sort_values(ascending = False)"
   ]
  },
  {
   "cell_type": "markdown",
   "id": "9089433b-3d38-4847-b9e6-4afb2a56a81b",
   "metadata": {},
   "source": [
    "VENDAS POR REPRESENTANTES"
   ]
  },
  {
   "cell_type": "code",
   "execution_count": 54,
   "id": "b302f2e3-3c00-4803-b85a-ce1696d014c7",
   "metadata": {},
   "outputs": [
    {
     "data": {
      "text/plain": [
       "sales_rep\n",
       "david      222\n",
       "eve        209\n",
       "bob        208\n",
       "alice      192\n",
       "charlie    169\n",
       "Name: count, dtype: int64"
      ]
     },
     "execution_count": 54,
     "metadata": {},
     "output_type": "execute_result"
    }
   ],
   "source": [
    "df.sales_rep.value_counts()"
   ]
  },
  {
   "cell_type": "code",
   "execution_count": 55,
   "id": "dd2e43c0-37b6-4921-a77e-8e88e8d04112",
   "metadata": {},
   "outputs": [
    {
     "data": {
      "text/plain": [
       "sales_rep\n",
       "david      6042\n",
       "eve        5287\n",
       "bob        4977\n",
       "alice      4832\n",
       "charlie    4217\n",
       "Name: quantity_sold, dtype: int64"
      ]
     },
     "execution_count": 55,
     "metadata": {},
     "output_type": "execute_result"
    }
   ],
   "source": [
    "df.groupby('sales_rep')['quantity_sold'].sum().sort_values(ascending = False)"
   ]
  },
  {
   "cell_type": "code",
   "execution_count": 56,
   "id": "bba57a7f-c8de-4627-a69e-10049a092ea8",
   "metadata": {},
   "outputs": [
    {
     "data": {
      "text/plain": [
       "sales_rep\n",
       "david      1141737.36\n",
       "bob        1080990.63\n",
       "eve         970183.99\n",
       "alice       965541.77\n",
       "charlie     860811.48\n",
       "Name: sales_amount, dtype: float64"
      ]
     },
     "execution_count": 56,
     "metadata": {},
     "output_type": "execute_result"
    }
   ],
   "source": [
    "df.groupby('sales_rep')['sales_amount'].sum().sort_values(ascending = False)"
   ]
  },
  {
   "cell_type": "markdown",
   "id": "56b930f5-4aef-4938-9a24-832b4198ee02",
   "metadata": {},
   "source": [
    "VENDAS POR REGIÕES"
   ]
  },
  {
   "cell_type": "code",
   "execution_count": 57,
   "id": "3f0e42ff-669f-4214-81d1-1fb162312153",
   "metadata": {},
   "outputs": [
    {
     "data": {
      "text/plain": [
       "region\n",
       "north    267\n",
       "east     263\n",
       "west     244\n",
       "south    226\n",
       "Name: count, dtype: int64"
      ]
     },
     "execution_count": 57,
     "metadata": {},
     "output_type": "execute_result"
    }
   ],
   "source": [
    "df.region.value_counts()"
   ]
  },
  {
   "cell_type": "code",
   "execution_count": 58,
   "id": "ae768f5a-694d-4f6b-8cb9-78755b706d0d",
   "metadata": {},
   "outputs": [
    {
     "data": {
      "text/plain": [
       "region\n",
       "north    1369612.51\n",
       "east     1259792.93\n",
       "west     1235608.93\n",
       "south    1154250.86\n",
       "Name: sales_amount, dtype: float64"
      ]
     },
     "execution_count": 58,
     "metadata": {},
     "output_type": "execute_result"
    }
   ],
   "source": [
    "df.groupby('region')['sales_amount'].sum().sort_values(ascending = False)"
   ]
  },
  {
   "cell_type": "code",
   "execution_count": 59,
   "id": "651f2e95-3607-4484-a562-ce32a79a2d0c",
   "metadata": {},
   "outputs": [
    {
     "data": {
      "text/plain": [
       "region\n",
       "north    6705\n",
       "west     6486\n",
       "east     6356\n",
       "south    5808\n",
       "Name: quantity_sold, dtype: int64"
      ]
     },
     "execution_count": 59,
     "metadata": {},
     "output_type": "execute_result"
    }
   ],
   "source": [
    "df.groupby('region')['quantity_sold'].sum().sort_values(ascending = False)"
   ]
  },
  {
   "cell_type": "markdown",
   "id": "545b6b9a-ea5b-461d-958f-fa8875da5abe",
   "metadata": {},
   "source": [
    "CLIENTES NOVOS OU ANTIGOS ?"
   ]
  },
  {
   "cell_type": "code",
   "execution_count": 60,
   "id": "6af34169-0920-49b0-bbc8-7478ffdc1f2e",
   "metadata": {},
   "outputs": [
    {
     "data": {
      "text/plain": [
       "customer_type\n",
       "new          504\n",
       "returning    496\n",
       "Name: count, dtype: int64"
      ]
     },
     "execution_count": 60,
     "metadata": {},
     "output_type": "execute_result"
    }
   ],
   "source": [
    "df.customer_type.value_counts()"
   ]
  },
  {
   "cell_type": "code",
   "execution_count": 61,
   "id": "4d137de5-9111-4f4b-a62b-7150310af685",
   "metadata": {},
   "outputs": [
    {
     "data": {
      "text/plain": [
       "customer_type\n",
       "returning    2513006.93\n",
       "new          2506258.30\n",
       "Name: sales_amount, dtype: float64"
      ]
     },
     "execution_count": 61,
     "metadata": {},
     "output_type": "execute_result"
    }
   ],
   "source": [
    "df.groupby('customer_type')['sales_amount'].sum().sort_values(ascending = False)"
   ]
  },
  {
   "cell_type": "markdown",
   "id": "e8f2239e-a82d-46fc-9864-4a856f3a8c1a",
   "metadata": {},
   "source": [
    "VENDAS POR SEÇÕES"
   ]
  },
  {
   "cell_type": "code",
   "execution_count": 62,
   "id": "0cb01db6-2dad-484e-b354-7934193f81b8",
   "metadata": {},
   "outputs": [
    {
     "data": {
      "text/plain": [
       "product_category\n",
       "clothing       1313474.36\n",
       "furniture      1260517.69\n",
       "electronics    1243499.64\n",
       "food           1201773.54\n",
       "Name: sales_amount, dtype: float64"
      ]
     },
     "execution_count": 62,
     "metadata": {},
     "output_type": "execute_result"
    }
   ],
   "source": [
    "df.groupby('product_category')['sales_amount'].sum().sort_values(ascending = False)"
   ]
  },
  {
   "cell_type": "code",
   "execution_count": 63,
   "id": "51897c58-7f8e-4ab5-811e-08fca83dd4e5",
   "metadata": {},
   "outputs": [
    {
     "data": {
      "text/plain": [
       "product_category\n",
       "clothing       6922\n",
       "furniture      6729\n",
       "electronics    6096\n",
       "food           5608\n",
       "Name: quantity_sold, dtype: int64"
      ]
     },
     "execution_count": 63,
     "metadata": {},
     "output_type": "execute_result"
    }
   ],
   "source": [
    "df.groupby('product_category')['quantity_sold'].sum().sort_values(ascending = False)"
   ]
  },
  {
   "cell_type": "markdown",
   "id": "a2892cfa-ebdf-4da0-b827-170b314fbb0d",
   "metadata": {},
   "source": [
    "VENDAS ONLINE VS FISICAS"
   ]
  },
  {
   "cell_type": "code",
   "execution_count": 64,
   "id": "bc56f15b-fca1-4907-b058-ee87dd11261e",
   "metadata": {},
   "outputs": [
    {
     "data": {
      "text/plain": [
       "sales_channel\n",
       "retail    2560431.30\n",
       "online    2458833.93\n",
       "Name: sales_amount, dtype: float64"
      ]
     },
     "execution_count": 64,
     "metadata": {},
     "output_type": "execute_result"
    }
   ],
   "source": [
    "df.groupby('sales_channel')['sales_amount'].sum().sort_values(ascending = False)"
   ]
  },
  {
   "cell_type": "code",
   "execution_count": 65,
   "id": "a69d8862-d11f-4cd5-af6a-83715e12c62e",
   "metadata": {},
   "outputs": [
    {
     "data": {
      "text/plain": [
       "sales_channel\n",
       "retail    12753\n",
       "online    12602\n",
       "Name: quantity_sold, dtype: int64"
      ]
     },
     "execution_count": 65,
     "metadata": {},
     "output_type": "execute_result"
    }
   ],
   "source": [
    "df.groupby('sales_channel')['quantity_sold'].sum().sort_values(ascending = False)"
   ]
  },
  {
   "cell_type": "code",
   "execution_count": null,
   "id": "ce3ca462-e7fb-4231-8b97-92bf73e7b554",
   "metadata": {},
   "outputs": [],
   "source": []
  }
 ],
 "metadata": {
  "kernelspec": {
   "display_name": "Python 3 (ipykernel)",
   "language": "python",
   "name": "python3"
  },
  "language_info": {
   "codemirror_mode": {
    "name": "ipython",
    "version": 3
   },
   "file_extension": ".py",
   "mimetype": "text/x-python",
   "name": "python",
   "nbconvert_exporter": "python",
   "pygments_lexer": "ipython3",
   "version": "3.11.7"
  }
 },
 "nbformat": 4,
 "nbformat_minor": 5
}
