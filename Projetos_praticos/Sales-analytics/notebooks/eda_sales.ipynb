{
 "cells": [
  {
   "cell_type": "code",
   "execution_count": 40,
   "id": "0a8d56ad-f2e4-497f-b447-68f2ff7bd73e",
   "metadata": {},
   "outputs": [
    {
     "data": {
      "text/html": [
       "<div>\n",
       "<style scoped>\n",
       "    .dataframe tbody tr th:only-of-type {\n",
       "        vertical-align: middle;\n",
       "    }\n",
       "\n",
       "    .dataframe tbody tr th {\n",
       "        vertical-align: top;\n",
       "    }\n",
       "\n",
       "    .dataframe thead th {\n",
       "        text-align: right;\n",
       "    }\n",
       "</style>\n",
       "<table border=\"1\" class=\"dataframe\">\n",
       "  <thead>\n",
       "    <tr style=\"text-align: right;\">\n",
       "      <th></th>\n",
       "      <th>0</th>\n",
       "      <th>1</th>\n",
       "      <th>2</th>\n",
       "      <th>3</th>\n",
       "      <th>4</th>\n",
       "    </tr>\n",
       "  </thead>\n",
       "  <tbody>\n",
       "    <tr>\n",
       "      <th>product_id</th>\n",
       "      <td>1052</td>\n",
       "      <td>1093</td>\n",
       "      <td>1015</td>\n",
       "      <td>1072</td>\n",
       "      <td>1061</td>\n",
       "    </tr>\n",
       "    <tr>\n",
       "      <th>sale_date</th>\n",
       "      <td>2023-02-03</td>\n",
       "      <td>2023-04-21</td>\n",
       "      <td>2023-09-21</td>\n",
       "      <td>2023-08-24</td>\n",
       "      <td>2023-03-24</td>\n",
       "    </tr>\n",
       "    <tr>\n",
       "      <th>sales_rep</th>\n",
       "      <td>bob</td>\n",
       "      <td>bob</td>\n",
       "      <td>david</td>\n",
       "      <td>bob</td>\n",
       "      <td>charlie</td>\n",
       "    </tr>\n",
       "    <tr>\n",
       "      <th>region</th>\n",
       "      <td>north</td>\n",
       "      <td>west</td>\n",
       "      <td>south</td>\n",
       "      <td>south</td>\n",
       "      <td>east</td>\n",
       "    </tr>\n",
       "    <tr>\n",
       "      <th>sales_amount</th>\n",
       "      <td>5053.97</td>\n",
       "      <td>4384.02</td>\n",
       "      <td>4631.23</td>\n",
       "      <td>2167.94</td>\n",
       "      <td>3750.2</td>\n",
       "    </tr>\n",
       "    <tr>\n",
       "      <th>quantity_sold</th>\n",
       "      <td>18</td>\n",
       "      <td>17</td>\n",
       "      <td>30</td>\n",
       "      <td>39</td>\n",
       "      <td>13</td>\n",
       "    </tr>\n",
       "    <tr>\n",
       "      <th>product_category</th>\n",
       "      <td>furniture</td>\n",
       "      <td>furniture</td>\n",
       "      <td>food</td>\n",
       "      <td>clothing</td>\n",
       "      <td>electronics</td>\n",
       "    </tr>\n",
       "    <tr>\n",
       "      <th>unit_cost</th>\n",
       "      <td>152.75</td>\n",
       "      <td>3816.39</td>\n",
       "      <td>261.56</td>\n",
       "      <td>4330.03</td>\n",
       "      <td>637.37</td>\n",
       "    </tr>\n",
       "    <tr>\n",
       "      <th>unit_price</th>\n",
       "      <td>267.22</td>\n",
       "      <td>4209.44</td>\n",
       "      <td>371.4</td>\n",
       "      <td>4467.75</td>\n",
       "      <td>692.71</td>\n",
       "    </tr>\n",
       "    <tr>\n",
       "      <th>customer_type</th>\n",
       "      <td>returning</td>\n",
       "      <td>returning</td>\n",
       "      <td>returning</td>\n",
       "      <td>new</td>\n",
       "      <td>new</td>\n",
       "    </tr>\n",
       "    <tr>\n",
       "      <th>discount</th>\n",
       "      <td>0.09</td>\n",
       "      <td>0.11</td>\n",
       "      <td>0.2</td>\n",
       "      <td>0.02</td>\n",
       "      <td>0.08</td>\n",
       "    </tr>\n",
       "    <tr>\n",
       "      <th>payment_method</th>\n",
       "      <td>cash</td>\n",
       "      <td>cash</td>\n",
       "      <td>bank_transfer</td>\n",
       "      <td>credit_card</td>\n",
       "      <td>credit_card</td>\n",
       "    </tr>\n",
       "    <tr>\n",
       "      <th>sales_channel</th>\n",
       "      <td>online</td>\n",
       "      <td>retail</td>\n",
       "      <td>retail</td>\n",
       "      <td>retail</td>\n",
       "      <td>online</td>\n",
       "    </tr>\n",
       "    <tr>\n",
       "      <th>region_and_sales_rep</th>\n",
       "      <td>north-bob</td>\n",
       "      <td>west-bob</td>\n",
       "      <td>south-david</td>\n",
       "      <td>south-bob</td>\n",
       "      <td>east-charlie</td>\n",
       "    </tr>\n",
       "    <tr>\n",
       "      <th>year_month</th>\n",
       "      <td>2023-02</td>\n",
       "      <td>2023-04</td>\n",
       "      <td>2023-09</td>\n",
       "      <td>2023-08</td>\n",
       "      <td>2023-03</td>\n",
       "    </tr>\n",
       "  </tbody>\n",
       "</table>\n",
       "</div>"
      ],
      "text/plain": [
       "                               0           1              2            3  \\\n",
       "product_id                  1052        1093           1015         1072   \n",
       "sale_date             2023-02-03  2023-04-21     2023-09-21   2023-08-24   \n",
       "sales_rep                    bob         bob          david          bob   \n",
       "region                     north        west          south        south   \n",
       "sales_amount             5053.97     4384.02        4631.23      2167.94   \n",
       "quantity_sold                 18          17             30           39   \n",
       "product_category       furniture   furniture           food     clothing   \n",
       "unit_cost                 152.75     3816.39         261.56      4330.03   \n",
       "unit_price                267.22     4209.44          371.4      4467.75   \n",
       "customer_type          returning   returning      returning          new   \n",
       "discount                    0.09        0.11            0.2         0.02   \n",
       "payment_method              cash        cash  bank_transfer  credit_card   \n",
       "sales_channel             online      retail         retail       retail   \n",
       "region_and_sales_rep   north-bob    west-bob    south-david    south-bob   \n",
       "year_month               2023-02     2023-04        2023-09      2023-08   \n",
       "\n",
       "                                 4  \n",
       "product_id                    1061  \n",
       "sale_date               2023-03-24  \n",
       "sales_rep                  charlie  \n",
       "region                        east  \n",
       "sales_amount                3750.2  \n",
       "quantity_sold                   13  \n",
       "product_category       electronics  \n",
       "unit_cost                   637.37  \n",
       "unit_price                  692.71  \n",
       "customer_type                  new  \n",
       "discount                      0.08  \n",
       "payment_method         credit_card  \n",
       "sales_channel               online  \n",
       "region_and_sales_rep  east-charlie  \n",
       "year_month                 2023-03  "
      ]
     },
     "execution_count": 40,
     "metadata": {},
     "output_type": "execute_result"
    }
   ],
   "source": [
    "import pandas as pd\n",
    "\n",
    "df = pd.read_csv('sales_clean.csv')\n",
    "\n",
    "df.head().T"
   ]
  },
  {
   "cell_type": "code",
   "execution_count": 39,
   "id": "7758aa4c-6547-4f34-87b5-183523b1c1d8",
   "metadata": {},
   "outputs": [
    {
     "data": {
      "text/plain": [
       "year_month\n",
       "2023-01    100\n",
       "2023-11     95\n",
       "2023-08     93\n",
       "2023-06     92\n",
       "2023-10     88\n",
       "2023-12     85\n",
       "2023-04     81\n",
       "2023-03     80\n",
       "2023-02     75\n",
       "2023-05     72\n",
       "2023-09     68\n",
       "2023-07     68\n",
       "2024-01      3\n",
       "Name: count, dtype: int64"
      ]
     },
     "execution_count": 39,
     "metadata": {},
     "output_type": "execute_result"
    }
   ],
   "source": [
    "df.year_month.value_counts()"
   ]
  },
  {
   "cell_type": "markdown",
   "id": "561c8d55-0083-497b-ad47-a6b22ce8d4ad",
   "metadata": {},
   "source": [
    "ANALISE EXPLORATORIA DE DADOS(EDA)"
   ]
  },
  {
   "cell_type": "markdown",
   "id": "630c0f0e-05c3-489a-85ea-2ece61418f28",
   "metadata": {},
   "source": [
    "PRODUTOS COM MAIS VENDAS"
   ]
  },
  {
   "cell_type": "code",
   "execution_count": 6,
   "id": "42226646-aea4-48f9-8a9e-3aa0b3351e0c",
   "metadata": {},
   "outputs": [
    {
     "data": {
      "text/plain": [
       "product_id\n",
       "1090    590\n",
       "1092    548\n",
       "1062    506\n",
       "1099    502\n",
       "1058    452\n",
       "       ... \n",
       "1083    125\n",
       "1065    105\n",
       "1011     75\n",
       "1043     65\n",
       "1031     64\n",
       "Name: quantity_sold, Length: 100, dtype: int64"
      ]
     },
     "execution_count": 6,
     "metadata": {},
     "output_type": "execute_result"
    }
   ],
   "source": [
    "df.groupby('product_id')['quantity_sold'].sum().sort_values(ascending = False)"
   ]
  },
  {
   "cell_type": "markdown",
   "id": "78c363ca-d684-4082-b297-db2a4f40b1de",
   "metadata": {},
   "source": [
    "PRODUTO COM MAIS LUCRO"
   ]
  },
  {
   "cell_type": "code",
   "execution_count": 7,
   "id": "2f907b09-2a95-4319-9b05-2dfb119c98f3",
   "metadata": {},
   "outputs": [
    {
     "data": {
      "text/plain": [
       "product_id\n",
       "1099    101773.87\n",
       "1092     90615.62\n",
       "1033     89130.41\n",
       "1090     88043.25\n",
       "1086     82269.71\n",
       "          ...    \n",
       "1011     19099.43\n",
       "1079     17828.37\n",
       "1041     10682.46\n",
       "1031      9782.28\n",
       "1083      8059.05\n",
       "Name: sales_amount, Length: 100, dtype: float64"
      ]
     },
     "execution_count": 7,
     "metadata": {},
     "output_type": "execute_result"
    }
   ],
   "source": [
    "df.groupby('product_id')['sales_amount'].sum().sort_values(ascending = False)"
   ]
  },
  {
   "cell_type": "markdown",
   "id": "9089433b-3d38-4847-b9e6-4afb2a56a81b",
   "metadata": {},
   "source": [
    "REPRESENTANTES"
   ]
  },
  {
   "cell_type": "code",
   "execution_count": 8,
   "id": "b302f2e3-3c00-4803-b85a-ce1696d014c7",
   "metadata": {},
   "outputs": [
    {
     "data": {
      "text/plain": [
       "sales_rep\n",
       "david      222\n",
       "eve        209\n",
       "bob        208\n",
       "alice      192\n",
       "charlie    169\n",
       "Name: count, dtype: int64"
      ]
     },
     "execution_count": 8,
     "metadata": {},
     "output_type": "execute_result"
    }
   ],
   "source": [
    "df.sales_rep.value_counts()"
   ]
  },
  {
   "cell_type": "markdown",
   "id": "65b5f94e-a6ea-49da-b91f-9706116f092f",
   "metadata": {},
   "source": [
    "QUANTIDADE DE ITENS VENDIDOS POR REPRESENTANTES "
   ]
  },
  {
   "cell_type": "code",
   "execution_count": 9,
   "id": "dd2e43c0-37b6-4921-a77e-8e88e8d04112",
   "metadata": {},
   "outputs": [
    {
     "data": {
      "text/plain": [
       "sales_rep\n",
       "david      6042\n",
       "eve        5287\n",
       "bob        4977\n",
       "alice      4832\n",
       "charlie    4217\n",
       "Name: quantity_sold, dtype: int64"
      ]
     },
     "execution_count": 9,
     "metadata": {},
     "output_type": "execute_result"
    }
   ],
   "source": [
    "df.groupby('sales_rep')['quantity_sold'].sum().sort_values(ascending = False)"
   ]
  },
  {
   "cell_type": "markdown",
   "id": "f48441b3-6b61-44c8-b7c7-22c62d0431ff",
   "metadata": {},
   "source": [
    "LUCRO DAS VENDA POR REPRESENTANTES"
   ]
  },
  {
   "cell_type": "code",
   "execution_count": 10,
   "id": "bba57a7f-c8de-4627-a69e-10049a092ea8",
   "metadata": {},
   "outputs": [
    {
     "data": {
      "text/plain": [
       "sales_rep\n",
       "david      1141737.36\n",
       "bob        1080990.63\n",
       "eve         970183.99\n",
       "alice       965541.77\n",
       "charlie     860811.48\n",
       "Name: sales_amount, dtype: float64"
      ]
     },
     "execution_count": 10,
     "metadata": {},
     "output_type": "execute_result"
    }
   ],
   "source": [
    "df.groupby('sales_rep')['sales_amount'].sum().sort_values(ascending = False)"
   ]
  },
  {
   "cell_type": "markdown",
   "id": "56b930f5-4aef-4938-9a24-832b4198ee02",
   "metadata": {},
   "source": [
    "REGIÕES"
   ]
  },
  {
   "cell_type": "code",
   "execution_count": 11,
   "id": "3f0e42ff-669f-4214-81d1-1fb162312153",
   "metadata": {},
   "outputs": [
    {
     "data": {
      "text/plain": [
       "region\n",
       "north    267\n",
       "east     263\n",
       "west     244\n",
       "south    226\n",
       "Name: count, dtype: int64"
      ]
     },
     "execution_count": 11,
     "metadata": {},
     "output_type": "execute_result"
    }
   ],
   "source": [
    "df.region.value_counts()"
   ]
  },
  {
   "cell_type": "markdown",
   "id": "e7ea2e91-dc4f-4dc6-9be1-3e9ba4067905",
   "metadata": {},
   "source": [
    "LUCRO DAS VENDAS POR REGIÃO"
   ]
  },
  {
   "cell_type": "code",
   "execution_count": 12,
   "id": "ae768f5a-694d-4f6b-8cb9-78755b706d0d",
   "metadata": {},
   "outputs": [
    {
     "data": {
      "text/plain": [
       "region\n",
       "north    1369612.51\n",
       "east     1259792.93\n",
       "west     1235608.93\n",
       "south    1154250.86\n",
       "Name: sales_amount, dtype: float64"
      ]
     },
     "execution_count": 12,
     "metadata": {},
     "output_type": "execute_result"
    }
   ],
   "source": [
    "df.groupby('region')['sales_amount'].sum().sort_values(ascending = False)"
   ]
  },
  {
   "cell_type": "markdown",
   "id": "63090aad-1519-427b-bf82-38b1f9a41484",
   "metadata": {},
   "source": [
    "QUANTIDADE DE ITENS VENDIDOS POR REGIÃO"
   ]
  },
  {
   "cell_type": "code",
   "execution_count": 13,
   "id": "651f2e95-3607-4484-a562-ce32a79a2d0c",
   "metadata": {},
   "outputs": [
    {
     "data": {
      "text/plain": [
       "region\n",
       "north    6705\n",
       "west     6486\n",
       "east     6356\n",
       "south    5808\n",
       "Name: quantity_sold, dtype: int64"
      ]
     },
     "execution_count": 13,
     "metadata": {},
     "output_type": "execute_result"
    }
   ],
   "source": [
    "df.groupby('region')['quantity_sold'].sum().sort_values(ascending = False)"
   ]
  },
  {
   "cell_type": "markdown",
   "id": "545b6b9a-ea5b-461d-958f-fa8875da5abe",
   "metadata": {},
   "source": [
    "CLIENTES NOVOS OU ANTIGOS ?"
   ]
  },
  {
   "cell_type": "code",
   "execution_count": 14,
   "id": "6af34169-0920-49b0-bbc8-7478ffdc1f2e",
   "metadata": {},
   "outputs": [
    {
     "data": {
      "text/plain": [
       "customer_type\n",
       "new          504\n",
       "returning    496\n",
       "Name: count, dtype: int64"
      ]
     },
     "execution_count": 14,
     "metadata": {},
     "output_type": "execute_result"
    }
   ],
   "source": [
    "df.customer_type.value_counts()"
   ]
  },
  {
   "cell_type": "markdown",
   "id": "0e20cad7-d3c8-4462-8f00-2c2501e18cd4",
   "metadata": {},
   "source": [
    "LUCRO POR TIPO DE CLIENTE"
   ]
  },
  {
   "cell_type": "code",
   "execution_count": 15,
   "id": "4d137de5-9111-4f4b-a62b-7150310af685",
   "metadata": {},
   "outputs": [
    {
     "data": {
      "text/plain": [
       "customer_type\n",
       "returning    2513006.93\n",
       "new          2506258.30\n",
       "Name: sales_amount, dtype: float64"
      ]
     },
     "execution_count": 15,
     "metadata": {},
     "output_type": "execute_result"
    }
   ],
   "source": [
    "df.groupby('customer_type')['sales_amount'].sum().sort_values(ascending = False)"
   ]
  },
  {
   "cell_type": "markdown",
   "id": "e8f2239e-a82d-46fc-9864-4a856f3a8c1a",
   "metadata": {},
   "source": [
    "VENDAS POR SEÇÕES"
   ]
  },
  {
   "cell_type": "markdown",
   "id": "1bd7e102-cbe7-4799-98a0-a401a2df4e62",
   "metadata": {},
   "source": [
    "SETORES COM MAIOR LUCRO"
   ]
  },
  {
   "cell_type": "code",
   "execution_count": 16,
   "id": "0cb01db6-2dad-484e-b354-7934193f81b8",
   "metadata": {},
   "outputs": [
    {
     "data": {
      "text/plain": [
       "product_category\n",
       "clothing       1313474.36\n",
       "furniture      1260517.69\n",
       "electronics    1243499.64\n",
       "food           1201773.54\n",
       "Name: sales_amount, dtype: float64"
      ]
     },
     "execution_count": 16,
     "metadata": {},
     "output_type": "execute_result"
    }
   ],
   "source": [
    "df.groupby('product_category')['sales_amount'].sum().sort_values(ascending = False)"
   ]
  },
  {
   "cell_type": "markdown",
   "id": "6fdc05df-4782-461b-b7fb-bb9668fcb2c7",
   "metadata": {},
   "source": [
    "SETORES COM MAIOR NUMERO DE VENDAS"
   ]
  },
  {
   "cell_type": "code",
   "execution_count": 17,
   "id": "51897c58-7f8e-4ab5-811e-08fca83dd4e5",
   "metadata": {},
   "outputs": [
    {
     "data": {
      "text/plain": [
       "product_category\n",
       "clothing       6922\n",
       "furniture      6729\n",
       "electronics    6096\n",
       "food           5608\n",
       "Name: quantity_sold, dtype: int64"
      ]
     },
     "execution_count": 17,
     "metadata": {},
     "output_type": "execute_result"
    }
   ],
   "source": [
    "df.groupby('product_category')['quantity_sold'].sum().sort_values(ascending = False)"
   ]
  },
  {
   "cell_type": "markdown",
   "id": "a2892cfa-ebdf-4da0-b827-170b314fbb0d",
   "metadata": {},
   "source": [
    "CANAIS DE VENDAS"
   ]
  },
  {
   "cell_type": "markdown",
   "id": "6213530b-4382-4d1e-b61a-c8061bcb6110",
   "metadata": {},
   "source": [
    "VENDAS OLINE X FISICAS"
   ]
  },
  {
   "cell_type": "code",
   "execution_count": 18,
   "id": "bc56f15b-fca1-4907-b058-ee87dd11261e",
   "metadata": {},
   "outputs": [
    {
     "data": {
      "text/plain": [
       "sales_channel\n",
       "retail    2560431.30\n",
       "online    2458833.93\n",
       "Name: sales_amount, dtype: float64"
      ]
     },
     "execution_count": 18,
     "metadata": {},
     "output_type": "execute_result"
    }
   ],
   "source": [
    "df.groupby('sales_channel')['sales_amount'].sum().sort_values(ascending = False)"
   ]
  },
  {
   "cell_type": "code",
   "execution_count": 19,
   "id": "a69d8862-d11f-4cd5-af6a-83715e12c62e",
   "metadata": {},
   "outputs": [
    {
     "data": {
      "text/plain": [
       "sales_channel\n",
       "retail    12753\n",
       "online    12602\n",
       "Name: quantity_sold, dtype: int64"
      ]
     },
     "execution_count": 19,
     "metadata": {},
     "output_type": "execute_result"
    }
   ],
   "source": [
    "df.groupby('sales_channel')['quantity_sold'].sum().sort_values(ascending = False)"
   ]
  },
  {
   "cell_type": "markdown",
   "id": "2b6202b9-0700-4a67-925e-76f3a03931c0",
   "metadata": {},
   "source": [
    "VENDAS POR MÊS"
   ]
  },
  {
   "cell_type": "code",
   "execution_count": 20,
   "id": "5732979a-f94d-47cb-aa7f-6a83a967769b",
   "metadata": {},
   "outputs": [
    {
     "data": {
      "text/plain": [
       "year_month\n",
       "2023-01    100\n",
       "2023-11     95\n",
       "2023-08     93\n",
       "2023-06     92\n",
       "2023-10     88\n",
       "2023-12     85\n",
       "2023-04     81\n",
       "2023-03     80\n",
       "2023-02     75\n",
       "2023-05     72\n",
       "2023-09     68\n",
       "2023-07     68\n",
       "2024-01      3\n",
       "Name: count, dtype: int64"
      ]
     },
     "execution_count": 20,
     "metadata": {},
     "output_type": "execute_result"
    }
   ],
   "source": [
    "df.year_month.value_counts()"
   ]
  },
  {
   "cell_type": "markdown",
   "id": "72f746c3-fed1-439a-b1e4-e1e590171682",
   "metadata": {},
   "source": [
    "MESES COM MAIORES NUMEROS DE VENDAS"
   ]
  },
  {
   "cell_type": "code",
   "execution_count": 21,
   "id": "ce3ca462-e7fb-4231-8b97-92bf73e7b554",
   "metadata": {},
   "outputs": [
    {
     "data": {
      "text/plain": [
       "year_month\n",
       "2023-01    2472\n",
       "2023-10    2386\n",
       "2023-08    2336\n",
       "2023-06    2276\n",
       "2023-12    2183\n",
       "2023-11    2129\n",
       "2023-03    2069\n",
       "2023-02    2064\n",
       "2023-04    1977\n",
       "2023-05    1968\n",
       "2023-09    1815\n",
       "2023-07    1603\n",
       "2024-01      77\n",
       "Name: quantity_sold, dtype: int64"
      ]
     },
     "execution_count": 21,
     "metadata": {},
     "output_type": "execute_result"
    }
   ],
   "source": [
    "df.groupby('year_month')['quantity_sold'].sum().sort_values(ascending = False)"
   ]
  },
  {
   "cell_type": "markdown",
   "id": "b0d5b458-df40-4b94-8ec4-6db5e8615552",
   "metadata": {},
   "source": [
    "MESES COM MAIS LUCRO"
   ]
  },
  {
   "cell_type": "code",
   "execution_count": 22,
   "id": "87a702fa-8f66-4e02-b084-176134b3895f",
   "metadata": {},
   "outputs": [
    {
     "data": {
      "text/plain": [
       "year_month\n",
       "2023-01    476092.36\n",
       "2023-11    467482.90\n",
       "2023-10    460378.78\n",
       "2023-08    443171.28\n",
       "2023-04    438992.61\n",
       "2023-06    418458.34\n",
       "2023-03    402638.77\n",
       "2023-12    392643.58\n",
       "2023-05    389078.76\n",
       "2023-07    374242.88\n",
       "2023-02    368919.36\n",
       "2023-09    367837.60\n",
       "2024-01     19328.01\n",
       "Name: sales_amount, dtype: float64"
      ]
     },
     "execution_count": 22,
     "metadata": {},
     "output_type": "execute_result"
    }
   ],
   "source": [
    "df.groupby('year_month')['sales_amount'].sum().sort_values(ascending = False)"
   ]
  },
  {
   "cell_type": "markdown",
   "id": "e5f34a74-b11e-4363-8fd5-67583cba8883",
   "metadata": {},
   "source": [
    "MultiIndex search"
   ]
  },
  {
   "cell_type": "code",
   "execution_count": 23,
   "id": "4b712d97-497a-4911-9cea-87563ccce057",
   "metadata": {},
   "outputs": [
    {
     "data": {
      "text/plain": [
       "Index(['product_id', 'sale_date', 'sales_rep', 'region', 'sales_amount',\n",
       "       'quantity_sold', 'product_category', 'unit_cost', 'unit_price',\n",
       "       'customer_type', 'discount', 'payment_method', 'sales_channel',\n",
       "       'region_and_sales_rep', 'year_month'],\n",
       "      dtype='object')"
      ]
     },
     "execution_count": 23,
     "metadata": {},
     "output_type": "execute_result"
    }
   ],
   "source": [
    "df.columns"
   ]
  },
  {
   "cell_type": "code",
   "execution_count": 24,
   "id": "08160da0-b36d-4618-b958-60ceee08e04e",
   "metadata": {},
   "outputs": [
    {
     "data": {
      "text/plain": [
       "customer_type  payment_method\n",
       "returning      credit_card       920894.22\n",
       "               cash              764528.04\n",
       "               bank_transfer     827584.67\n",
       "new            credit_card       836669.30\n",
       "               cash              779810.50\n",
       "               bank_transfer     889778.50\n",
       "Name: sales_amount, dtype: float64"
      ]
     },
     "execution_count": 24,
     "metadata": {},
     "output_type": "execute_result"
    }
   ],
   "source": [
    "df.groupby(['customer_type', 'payment_method'])['sales_amount'].sum().sort_index(ascending = False)"
   ]
  },
  {
   "cell_type": "code",
   "execution_count": 25,
   "id": "d13abb3f-f9e9-445f-b9c3-ca0581d4e136",
   "metadata": {},
   "outputs": [
    {
     "data": {
      "text/plain": [
       "customer_type  product_category\n",
       "returning      furniture           703541.41\n",
       "               food                598431.07\n",
       "               electronics         600789.64\n",
       "               clothing            610244.81\n",
       "new            furniture           556976.28\n",
       "               food                603342.47\n",
       "               electronics         642710.00\n",
       "               clothing            703229.55\n",
       "Name: sales_amount, dtype: float64"
      ]
     },
     "execution_count": 25,
     "metadata": {},
     "output_type": "execute_result"
    }
   ],
   "source": [
    "df.groupby(['customer_type', 'product_category'])['sales_amount'].sum().sort_index(ascending = False)"
   ]
  },
  {
   "cell_type": "code",
   "execution_count": 26,
   "id": "4de35465-a6e2-4aa7-99a6-46078e62273b",
   "metadata": {},
   "outputs": [
    {
     "data": {
      "text/plain": [
       "customer_type  region\n",
       "returning      west      689324.17\n",
       "               south     635776.76\n",
       "               north     607101.16\n",
       "               east      580804.84\n",
       "new            west      546284.76\n",
       "               south     518474.10\n",
       "               north     762511.35\n",
       "               east      678988.09\n",
       "Name: sales_amount, dtype: float64"
      ]
     },
     "execution_count": 26,
     "metadata": {},
     "output_type": "execute_result"
    }
   ],
   "source": [
    "df.groupby(['customer_type', 'region'])['sales_amount'].sum().sort_index(ascending = False)"
   ]
  },
  {
   "cell_type": "code",
   "execution_count": 27,
   "id": "9acba344-2282-4c34-b6e5-56a84d3d82d7",
   "metadata": {},
   "outputs": [
    {
     "data": {
      "text/plain": [
       "customer_type  sales_channel\n",
       "returning      retail           1336797.01\n",
       "               online           1176209.92\n",
       "new            retail           1223634.29\n",
       "               online           1282624.01\n",
       "Name: sales_amount, dtype: float64"
      ]
     },
     "execution_count": 27,
     "metadata": {},
     "output_type": "execute_result"
    }
   ],
   "source": [
    "df.groupby(['customer_type', 'sales_channel'])['sales_amount'].sum().sort_index(ascending = False)"
   ]
  },
  {
   "cell_type": "code",
   "execution_count": 28,
   "id": "ad6d75c9-950e-4b5b-97d2-310f3699a371",
   "metadata": {},
   "outputs": [
    {
     "data": {
      "text/plain": [
       "region  product_category\n",
       "west    furniture           1889\n",
       "        food                1389\n",
       "        electronics         1539\n",
       "        clothing            1669\n",
       "south   furniture           1440\n",
       "        food                1577\n",
       "        electronics         1274\n",
       "        clothing            1517\n",
       "north   furniture           1927\n",
       "        food                1179\n",
       "        electronics         1660\n",
       "        clothing            1939\n",
       "east    furniture           1473\n",
       "        food                1463\n",
       "        electronics         1623\n",
       "        clothing            1797\n",
       "Name: quantity_sold, dtype: int64"
      ]
     },
     "execution_count": 28,
     "metadata": {},
     "output_type": "execute_result"
    }
   ],
   "source": [
    "df.groupby(['region', 'product_category'])['quantity_sold'].sum().sort_index(ascending = False)"
   ]
  },
  {
   "cell_type": "code",
   "execution_count": 29,
   "id": "8d3edd17-af92-49a2-b66a-052a4c943686",
   "metadata": {},
   "outputs": [
    {
     "data": {
      "text/plain": [
       "region  product_category\n",
       "west    furniture           301496.45\n",
       "        food                315735.51\n",
       "        electronics         304067.97\n",
       "        clothing            314309.00\n",
       "south   furniture           289881.65\n",
       "        food                301187.51\n",
       "        electronics         293663.96\n",
       "        clothing            269517.74\n",
       "north   furniture           394983.35\n",
       "        food                258985.65\n",
       "        electronics         342666.29\n",
       "        clothing            372977.22\n",
       "east    furniture           274156.24\n",
       "        food                325864.87\n",
       "        electronics         303101.42\n",
       "        clothing            356670.40\n",
       "Name: sales_amount, dtype: float64"
      ]
     },
     "execution_count": 29,
     "metadata": {},
     "output_type": "execute_result"
    }
   ],
   "source": [
    "df.groupby(['region', 'product_category'])['sales_amount'].sum().sort_index(ascending = False)"
   ]
  },
  {
   "cell_type": "code",
   "execution_count": 30,
   "id": "499108d9-d2fe-4bc8-a3a7-b83b0c5e84f2",
   "metadata": {},
   "outputs": [
    {
     "data": {
      "text/plain": [
       "region  sales_rep\n",
       "west    eve          230592.67\n",
       "        david        263167.59\n",
       "        charlie      239708.85\n",
       "        bob          286449.28\n",
       "        alice        215690.54\n",
       "south   eve          196078.22\n",
       "        david        311416.99\n",
       "        charlie      156140.68\n",
       "        bob          251200.43\n",
       "        alice        239414.54\n",
       "north   eve          304172.20\n",
       "        david        282539.27\n",
       "        charlie      299789.01\n",
       "        bob          233464.81\n",
       "        alice        249647.22\n",
       "east    eve          239340.90\n",
       "        david        284613.51\n",
       "        charlie      165172.94\n",
       "        bob          309876.11\n",
       "        alice        260789.47\n",
       "Name: sales_amount, dtype: float64"
      ]
     },
     "execution_count": 30,
     "metadata": {},
     "output_type": "execute_result"
    }
   ],
   "source": [
    "df.groupby(['region', 'sales_rep'])['sales_amount'].sum().sort_index(ascending = False)"
   ]
  },
  {
   "cell_type": "code",
   "execution_count": 31,
   "id": "8c3f94ba-343d-4999-8e9d-37fc8fffa9c1",
   "metadata": {},
   "outputs": [
    {
     "data": {
      "text/plain": [
       "sales_rep  customer_type\n",
       "eve        returning        462454.68\n",
       "           new              507729.31\n",
       "david      returning        569598.99\n",
       "           new              572138.37\n",
       "charlie    returning        443195.46\n",
       "           new              417616.02\n",
       "bob        returning        557530.42\n",
       "           new              523460.21\n",
       "alice      returning        480227.38\n",
       "           new              485314.39\n",
       "Name: sales_amount, dtype: float64"
      ]
     },
     "execution_count": 31,
     "metadata": {},
     "output_type": "execute_result"
    }
   ],
   "source": [
    "df.groupby(['sales_rep', 'customer_type'])['sales_amount'].sum().sort_index(ascending = False)"
   ]
  },
  {
   "cell_type": "code",
   "execution_count": 32,
   "id": "2b5dd046-7ee0-4c26-965f-6bbb55ffe867",
   "metadata": {},
   "outputs": [
    {
     "data": {
      "text/plain": [
       "sales_rep  sales_channel\n",
       "eve        retail           553002.21\n",
       "           online           417181.78\n",
       "david      retail           564939.06\n",
       "           online           576798.30\n",
       "charlie    retail           413096.20\n",
       "           online           447715.28\n",
       "bob        retail           568188.21\n",
       "           online           512802.42\n",
       "alice      retail           461205.62\n",
       "           online           504336.15\n",
       "Name: sales_amount, dtype: float64"
      ]
     },
     "execution_count": 32,
     "metadata": {},
     "output_type": "execute_result"
    }
   ],
   "source": [
    "df.groupby(['sales_rep', 'sales_channel'])['sales_amount'].sum().sort_index(ascending = False)"
   ]
  },
  {
   "cell_type": "code",
   "execution_count": 33,
   "id": "f7182f91-35ea-4068-9f89-63687c0004a2",
   "metadata": {},
   "outputs": [
    {
     "data": {
      "text/plain": [
       "product_category  sales_rep\n",
       "furniture         eve          232845.49\n",
       "                  david        301450.63\n",
       "                  charlie      220677.01\n",
       "                  bob          264421.15\n",
       "                  alice        241123.41\n",
       "food              eve          197852.62\n",
       "                  david        281658.53\n",
       "                  charlie      182441.71\n",
       "                  bob          312988.52\n",
       "                  alice        226832.16\n",
       "electronics       eve          277780.56\n",
       "                  david        240443.36\n",
       "                  charlie      214363.09\n",
       "                  bob          248596.34\n",
       "                  alice        262316.29\n",
       "clothing          eve          261705.32\n",
       "                  david        318184.84\n",
       "                  charlie      243329.67\n",
       "                  bob          254984.62\n",
       "                  alice        235269.91\n",
       "Name: sales_amount, dtype: float64"
      ]
     },
     "execution_count": 33,
     "metadata": {},
     "output_type": "execute_result"
    }
   ],
   "source": [
    "df.groupby(['product_category', 'sales_rep'])['sales_amount'].sum().sort_index(ascending = False)"
   ]
  },
  {
   "cell_type": "code",
   "execution_count": 34,
   "id": "d635dd06-48bb-4010-88c5-e23034046e0e",
   "metadata": {},
   "outputs": [
    {
     "data": {
      "text/plain": [
       "sales_channel  product_category\n",
       "retail         furniture           612602.21\n",
       "               food                662725.70\n",
       "               electronics         578769.97\n",
       "               clothing            706333.42\n",
       "online         furniture           647915.48\n",
       "               food                539047.84\n",
       "               electronics         664729.67\n",
       "               clothing            607140.94\n",
       "Name: sales_amount, dtype: float64"
      ]
     },
     "execution_count": 34,
     "metadata": {},
     "output_type": "execute_result"
    }
   ],
   "source": [
    "df.groupby(['sales_channel', 'product_category'])['sales_amount'].sum().sort_index(ascending = False)"
   ]
  },
  {
   "cell_type": "code",
   "execution_count": 41,
   "id": "131417aa-a2cf-466e-acaa-db823e9aaa36",
   "metadata": {},
   "outputs": [
    {
     "data": {
      "text/plain": [
       "sales_channel  sales_rep\n",
       "retail         eve          553002.21\n",
       "               david        564939.06\n",
       "               charlie      413096.20\n",
       "               bob          568188.21\n",
       "               alice        461205.62\n",
       "online         eve          417181.78\n",
       "               david        576798.30\n",
       "               charlie      447715.28\n",
       "               bob          512802.42\n",
       "               alice        504336.15\n",
       "Name: sales_amount, dtype: float64"
      ]
     },
     "execution_count": 41,
     "metadata": {},
     "output_type": "execute_result"
    }
   ],
   "source": [
    "df.groupby(['sales_channel', 'sales_rep'])['sales_amount'].sum().sort_index(ascending = False)"
   ]
  },
  {
   "cell_type": "code",
   "execution_count": 35,
   "id": "9040c7c0-2ace-406d-b02a-f8b20938002a",
   "metadata": {},
   "outputs": [
    {
     "data": {
      "text/plain": [
       "sales_channel  payment_method\n",
       "retail         credit_card       952342.36\n",
       "               cash              806928.53\n",
       "               bank_transfer     801160.41\n",
       "online         credit_card       805221.16\n",
       "               cash              737410.01\n",
       "               bank_transfer     916202.76\n",
       "Name: sales_amount, dtype: float64"
      ]
     },
     "execution_count": 35,
     "metadata": {},
     "output_type": "execute_result"
    }
   ],
   "source": [
    "df.groupby(['sales_channel', 'payment_method'])['sales_amount'].sum().sort_index(ascending = False)"
   ]
  },
  {
   "cell_type": "code",
   "execution_count": 38,
   "id": "802fa294-5497-4fa4-8475-cdb5a4cf277b",
   "metadata": {},
   "outputs": [
    {
     "data": {
      "text/plain": [
       "year_month  customer_type\n",
       "2024-01     returning          53\n",
       "            new                24\n",
       "2023-12     returning         980\n",
       "            new              1203\n",
       "2023-11     returning         926\n",
       "            new              1203\n",
       "2023-10     returning        1264\n",
       "            new              1122\n",
       "2023-09     returning         746\n",
       "            new              1069\n",
       "2023-08     returning        1179\n",
       "            new              1157\n",
       "2023-07     returning         689\n",
       "            new               914\n",
       "2023-06     returning        1147\n",
       "            new              1129\n",
       "2023-05     returning        1038\n",
       "            new               930\n",
       "2023-04     returning        1115\n",
       "            new               862\n",
       "2023-03     returning         984\n",
       "            new              1085\n",
       "2023-02     returning         946\n",
       "            new              1118\n",
       "2023-01     returning        1104\n",
       "            new              1368\n",
       "Name: quantity_sold, dtype: int64"
      ]
     },
     "execution_count": 38,
     "metadata": {},
     "output_type": "execute_result"
    }
   ],
   "source": [
    "df.groupby(['year_month', 'customer_type'])['quantity_sold'].sum().sort_index(ascending = False)"
   ]
  },
  {
   "cell_type": "code",
   "execution_count": null,
   "id": "85f41e3f-eb15-4449-ad5d-87786d70eba8",
   "metadata": {},
   "outputs": [],
   "source": []
  }
 ],
 "metadata": {
  "kernelspec": {
   "display_name": "Python 3 (ipykernel)",
   "language": "python",
   "name": "python3"
  },
  "language_info": {
   "codemirror_mode": {
    "name": "ipython",
    "version": 3
   },
   "file_extension": ".py",
   "mimetype": "text/x-python",
   "name": "python",
   "nbconvert_exporter": "python",
   "pygments_lexer": "ipython3",
   "version": "3.11.7"
  }
 },
 "nbformat": 4,
 "nbformat_minor": 5
}
