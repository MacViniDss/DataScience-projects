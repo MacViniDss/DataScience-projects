{
 "cells": [
  {
   "cell_type": "code",
   "execution_count": 1,
   "id": "dfdf7de1-eae1-4591-a85a-b04b53a572f7",
   "metadata": {},
   "outputs": [
    {
     "data": {
      "text/html": [
       "<div>\n",
       "<style scoped>\n",
       "    .dataframe tbody tr th:only-of-type {\n",
       "        vertical-align: middle;\n",
       "    }\n",
       "\n",
       "    .dataframe tbody tr th {\n",
       "        vertical-align: top;\n",
       "    }\n",
       "\n",
       "    .dataframe thead th {\n",
       "        text-align: right;\n",
       "    }\n",
       "</style>\n",
       "<table border=\"1\" class=\"dataframe\">\n",
       "  <thead>\n",
       "    <tr style=\"text-align: right;\">\n",
       "      <th></th>\n",
       "      <th>customer_id</th>\n",
       "      <th>sex</th>\n",
       "      <th>customer_age</th>\n",
       "      <th>tenure</th>\n",
       "    </tr>\n",
       "  </thead>\n",
       "  <tbody>\n",
       "    <tr>\n",
       "      <th>0</th>\n",
       "      <td>9798859</td>\n",
       "      <td>Male</td>\n",
       "      <td>44.0</td>\n",
       "      <td>93</td>\n",
       "    </tr>\n",
       "    <tr>\n",
       "      <th>1</th>\n",
       "      <td>11413563</td>\n",
       "      <td>Male</td>\n",
       "      <td>36.0</td>\n",
       "      <td>65</td>\n",
       "    </tr>\n",
       "    <tr>\n",
       "      <th>2</th>\n",
       "      <td>818195</td>\n",
       "      <td>Male</td>\n",
       "      <td>35.0</td>\n",
       "      <td>129</td>\n",
       "    </tr>\n",
       "    <tr>\n",
       "      <th>3</th>\n",
       "      <td>12049009</td>\n",
       "      <td>Male</td>\n",
       "      <td>33.0</td>\n",
       "      <td>58</td>\n",
       "    </tr>\n",
       "    <tr>\n",
       "      <th>4</th>\n",
       "      <td>10083045</td>\n",
       "      <td>Male</td>\n",
       "      <td>42.0</td>\n",
       "      <td>88</td>\n",
       "    </tr>\n",
       "  </tbody>\n",
       "</table>\n",
       "</div>"
      ],
      "text/plain": [
       "   customer_id   sex  customer_age  tenure\n",
       "0      9798859  Male          44.0      93\n",
       "1     11413563  Male          36.0      65\n",
       "2       818195  Male          35.0     129\n",
       "3     12049009  Male          33.0      58\n",
       "4     10083045  Male          42.0      88"
      ]
     },
     "execution_count": 1,
     "metadata": {},
     "output_type": "execute_result"
    }
   ],
   "source": [
    "import pandas as pd\n",
    "\n",
    "df_customers = pd.read_csv('customer_details.csv')\n",
    "df_customers.head()"
   ]
  },
  {
   "cell_type": "markdown",
   "id": "3ce751dc-abd0-477b-845d-e503c6dd6e90",
   "metadata": {},
   "source": [
    "Conhecendo melhor os dados"
   ]
  },
  {
   "cell_type": "code",
   "execution_count": 2,
   "id": "fed5ad5b-1d2a-4013-97d8-929eab17dcce",
   "metadata": {},
   "outputs": [
    {
     "name": "stdout",
     "output_type": "stream",
     "text": [
      "<class 'pandas.core.frame.DataFrame'>\n",
      "RangeIndex: 20000 entries, 0 to 19999\n",
      "Data columns (total 4 columns):\n",
      " #   Column        Non-Null Count  Dtype  \n",
      "---  ------        --------------  -----  \n",
      " 0   customer_id   20000 non-null  int64  \n",
      " 1   sex           20000 non-null  object \n",
      " 2   customer_age  20000 non-null  float64\n",
      " 3   tenure        20000 non-null  int64  \n",
      "dtypes: float64(1), int64(2), object(1)\n",
      "memory usage: 625.1+ KB\n"
     ]
    }
   ],
   "source": [
    "df_customers.info()"
   ]
  },
  {
   "cell_type": "markdown",
   "id": "ba42ac2b-faa1-48ab-a183-ae7b384fc324",
   "metadata": {},
   "source": [
    "Buscando valores NaN(Not a Number) no dataframe:"
   ]
  },
  {
   "cell_type": "code",
   "execution_count": 3,
   "id": "df79af1f-f3a0-4fd5-b802-38cf2138c887",
   "metadata": {},
   "outputs": [
    {
     "data": {
      "text/plain": [
       "customer_id     0\n",
       "sex             0\n",
       "customer_age    0\n",
       "tenure          0\n",
       "dtype: int64"
      ]
     },
     "execution_count": 3,
     "metadata": {},
     "output_type": "execute_result"
    }
   ],
   "source": [
    "df_customers.isna().sum()"
   ]
  },
  {
   "cell_type": "markdown",
   "id": "53079661-e43d-4a71-94ed-c2ffeb640e4e",
   "metadata": {},
   "source": [
    "Nota-se valores fora do comum na coluna 'sex'"
   ]
  },
  {
   "cell_type": "code",
   "execution_count": 4,
   "id": "045da131-7a7d-407c-8b1a-ee30249e1d47",
   "metadata": {},
   "outputs": [
    {
     "data": {
      "text/plain": [
       "sex\n",
       "Male                15322\n",
       "Female               4669\n",
       "kvkktalepsilindi        8\n",
       "UNKNOWN                 1\n",
       "Name: count, dtype: int64"
      ]
     },
     "execution_count": 4,
     "metadata": {},
     "output_type": "execute_result"
    }
   ],
   "source": [
    "df_customers.sex.value_counts()"
   ]
  },
  {
   "cell_type": "markdown",
   "id": "62f9b4fe-0aa4-46ae-9f04-bccc2544bf87",
   "metadata": {},
   "source": [
    "Foi decidido trocar os valores incoerentes por 'Female', já que ela se encontra em menor nº no Df"
   ]
  },
  {
   "cell_type": "code",
   "execution_count": 5,
   "id": "41c96db1-73d6-4e4a-b0b5-56c5df85115f",
   "metadata": {},
   "outputs": [
    {
     "data": {
      "text/plain": [
       "sex\n",
       "Male      15322\n",
       "Female     4678\n",
       "Name: count, dtype: int64"
      ]
     },
     "execution_count": 5,
     "metadata": {},
     "output_type": "execute_result"
    }
   ],
   "source": [
    "df_customers['sex'] = df_customers['sex'].replace(['kvkktalepsilindi', 'UNKNOWN'], 'Female')\n",
    "df_customers.sex.value_counts()"
   ]
  },
  {
   "cell_type": "markdown",
   "id": "f820c6d0-b7a8-46fb-ac36-9d685be4ebff",
   "metadata": {},
   "source": [
    "Pegando os valores maximos e minimos da idade dos clientes"
   ]
  },
  {
   "cell_type": "code",
   "execution_count": 6,
   "id": "9a1b5c58-f84c-4fca-911f-5ae7637aacae",
   "metadata": {},
   "outputs": [
    {
     "data": {
      "text/plain": [
       "(2022.0, -34.0)"
      ]
     },
     "execution_count": 6,
     "metadata": {},
     "output_type": "execute_result"
    }
   ],
   "source": [
    "df_customers.customer_age.max(), df_customers.customer_age.min()"
   ]
  },
  {
   "cell_type": "markdown",
   "id": "c901d257-20d7-45fb-8946-7235388ecc86",
   "metadata": {},
   "source": [
    "Foi visto que há diversos valores que não se coincidem com o estilo de vida humano, assim decidimos muda-los"
   ]
  },
  {
   "cell_type": "code",
   "execution_count": 7,
   "id": "45ad97cd-6c9c-44c5-b570-0acef775b24a",
   "metadata": {},
   "outputs": [
    {
     "data": {
      "text/html": [
       "<div>\n",
       "<style scoped>\n",
       "    .dataframe tbody tr th:only-of-type {\n",
       "        vertical-align: middle;\n",
       "    }\n",
       "\n",
       "    .dataframe tbody tr th {\n",
       "        vertical-align: top;\n",
       "    }\n",
       "\n",
       "    .dataframe thead th {\n",
       "        text-align: right;\n",
       "    }\n",
       "</style>\n",
       "<table border=\"1\" class=\"dataframe\">\n",
       "  <thead>\n",
       "    <tr style=\"text-align: right;\">\n",
       "      <th></th>\n",
       "      <th>customer_id</th>\n",
       "      <th>sex</th>\n",
       "      <th>customer_age</th>\n",
       "      <th>tenure</th>\n",
       "    </tr>\n",
       "  </thead>\n",
       "  <tbody>\n",
       "    <tr>\n",
       "      <th>12354</th>\n",
       "      <td>18249203</td>\n",
       "      <td>Male</td>\n",
       "      <td>103.0</td>\n",
       "      <td>27</td>\n",
       "    </tr>\n",
       "    <tr>\n",
       "      <th>7204</th>\n",
       "      <td>32741149</td>\n",
       "      <td>Female</td>\n",
       "      <td>103.0</td>\n",
       "      <td>10</td>\n",
       "    </tr>\n",
       "    <tr>\n",
       "      <th>7856</th>\n",
       "      <td>30022394</td>\n",
       "      <td>Male</td>\n",
       "      <td>101.0</td>\n",
       "      <td>12</td>\n",
       "    </tr>\n",
       "    <tr>\n",
       "      <th>8140</th>\n",
       "      <td>28411257</td>\n",
       "      <td>Male</td>\n",
       "      <td>101.0</td>\n",
       "      <td>14</td>\n",
       "    </tr>\n",
       "    <tr>\n",
       "      <th>8622</th>\n",
       "      <td>27629553</td>\n",
       "      <td>Female</td>\n",
       "      <td>100.0</td>\n",
       "      <td>15</td>\n",
       "    </tr>\n",
       "    <tr>\n",
       "      <th>...</th>\n",
       "      <td>...</td>\n",
       "      <td>...</td>\n",
       "      <td>...</td>\n",
       "      <td>...</td>\n",
       "    </tr>\n",
       "    <tr>\n",
       "      <th>2561</th>\n",
       "      <td>11084465</td>\n",
       "      <td>Male</td>\n",
       "      <td>16.0</td>\n",
       "      <td>70</td>\n",
       "    </tr>\n",
       "    <tr>\n",
       "      <th>10186</th>\n",
       "      <td>23195039</td>\n",
       "      <td>Female</td>\n",
       "      <td>16.0</td>\n",
       "      <td>19</td>\n",
       "    </tr>\n",
       "    <tr>\n",
       "      <th>19288</th>\n",
       "      <td>13073879</td>\n",
       "      <td>Male</td>\n",
       "      <td>16.0</td>\n",
       "      <td>48</td>\n",
       "    </tr>\n",
       "    <tr>\n",
       "      <th>7728</th>\n",
       "      <td>30420705</td>\n",
       "      <td>Male</td>\n",
       "      <td>16.0</td>\n",
       "      <td>12</td>\n",
       "    </tr>\n",
       "    <tr>\n",
       "      <th>11240</th>\n",
       "      <td>21582309</td>\n",
       "      <td>Male</td>\n",
       "      <td>16.0</td>\n",
       "      <td>22</td>\n",
       "    </tr>\n",
       "  </tbody>\n",
       "</table>\n",
       "<p>12571 rows × 4 columns</p>\n",
       "</div>"
      ],
      "text/plain": [
       "       customer_id     sex  customer_age  tenure\n",
       "12354     18249203    Male         103.0      27\n",
       "7204      32741149  Female         103.0      10\n",
       "7856      30022394    Male         101.0      12\n",
       "8140      28411257    Male         101.0      14\n",
       "8622      27629553  Female         100.0      15\n",
       "...            ...     ...           ...     ...\n",
       "2561      11084465    Male          16.0      70\n",
       "10186     23195039  Female          16.0      19\n",
       "19288     13073879    Male          16.0      48\n",
       "7728      30420705    Male          16.0      12\n",
       "11240     21582309    Male          16.0      22\n",
       "\n",
       "[12571 rows x 4 columns]"
      ]
     },
     "execution_count": 7,
     "metadata": {},
     "output_type": "execute_result"
    }
   ],
   "source": [
    "normal_age = df_customers.loc[(df_customers.customer_age < 110) & (df_customers.customer_age >= 16)]\n",
    "normal_age.sort_values('customer_age',ascending = False)"
   ]
  },
  {
   "cell_type": "markdown",
   "id": "6cbdd0b9-622d-4548-a412-7e269dcd1a55",
   "metadata": {},
   "source": [
    "Com isso, vamos pegar a idade media de cada sexo e fazer a troca dos valores errados"
   ]
  },
  {
   "cell_type": "code",
   "execution_count": 8,
   "id": "8bb7d488-f63a-4b6c-8619-62728424e82d",
   "metadata": {},
   "outputs": [
    {
     "data": {
      "text/plain": [
       "sex\n",
       "Female    35.082235\n",
       "Male      33.358871\n",
       "Name: customer_age, dtype: float64"
      ]
     },
     "execution_count": 8,
     "metadata": {},
     "output_type": "execute_result"
    }
   ],
   "source": [
    "age_mean = normal_age.groupby('sex')['customer_age'].mean()\n",
    "age_mean"
   ]
  },
  {
   "cell_type": "code",
   "execution_count": 9,
   "id": "2efbd18c-38f2-4a24-874c-9ef46732c7d8",
   "metadata": {},
   "outputs": [
    {
     "data": {
      "text/plain": [
       "(103.0, 16.0)"
      ]
     },
     "execution_count": 9,
     "metadata": {},
     "output_type": "execute_result"
    }
   ],
   "source": [
    "# Substituição feita\n",
    "new_old = (df_customers.customer_age > 110) | (df_customers.customer_age < 16)\n",
    "df_customers.loc[new_old & (df_customers['sex']=='Male'), 'customer_age'] = 33\n",
    "df_customers.loc[new_old & (df_customers['sex']=='Female'), 'customer_age'] = 35\n",
    "\n",
    "df_customers.customer_age.max(),df_customers.customer_age.min() "
   ]
  },
  {
   "cell_type": "markdown",
   "id": "27e2ad4b-ff07-4b63-a01d-3bcd78092bd6",
   "metadata": {},
   "source": [
    "FIM LIMPEZA E ANALISE CUSTOMERS / INICIO LIMPEZA E ANALISE BASKET"
   ]
  },
  {
   "cell_type": "code",
   "execution_count": 10,
   "id": "4c366eb0-12fc-427f-9291-3bc375ad4802",
   "metadata": {},
   "outputs": [
    {
     "data": {
      "text/html": [
       "<div>\n",
       "<style scoped>\n",
       "    .dataframe tbody tr th:only-of-type {\n",
       "        vertical-align: middle;\n",
       "    }\n",
       "\n",
       "    .dataframe tbody tr th {\n",
       "        vertical-align: top;\n",
       "    }\n",
       "\n",
       "    .dataframe thead th {\n",
       "        text-align: right;\n",
       "    }\n",
       "</style>\n",
       "<table border=\"1\" class=\"dataframe\">\n",
       "  <thead>\n",
       "    <tr style=\"text-align: right;\">\n",
       "      <th></th>\n",
       "      <th>customer_id</th>\n",
       "      <th>product_id</th>\n",
       "      <th>basket_date</th>\n",
       "      <th>basket_count</th>\n",
       "    </tr>\n",
       "  </thead>\n",
       "  <tbody>\n",
       "    <tr>\n",
       "      <th>0</th>\n",
       "      <td>42366585</td>\n",
       "      <td>41475073</td>\n",
       "      <td>2019-06-19</td>\n",
       "      <td>2</td>\n",
       "    </tr>\n",
       "    <tr>\n",
       "      <th>1</th>\n",
       "      <td>35956841</td>\n",
       "      <td>43279538</td>\n",
       "      <td>2019-06-19</td>\n",
       "      <td>2</td>\n",
       "    </tr>\n",
       "    <tr>\n",
       "      <th>2</th>\n",
       "      <td>26139578</td>\n",
       "      <td>31715598</td>\n",
       "      <td>2019-06-19</td>\n",
       "      <td>3</td>\n",
       "    </tr>\n",
       "    <tr>\n",
       "      <th>3</th>\n",
       "      <td>3262253</td>\n",
       "      <td>47880260</td>\n",
       "      <td>2019-06-19</td>\n",
       "      <td>2</td>\n",
       "    </tr>\n",
       "    <tr>\n",
       "      <th>4</th>\n",
       "      <td>20056678</td>\n",
       "      <td>44747002</td>\n",
       "      <td>2019-06-19</td>\n",
       "      <td>2</td>\n",
       "    </tr>\n",
       "  </tbody>\n",
       "</table>\n",
       "</div>"
      ],
      "text/plain": [
       "   customer_id  product_id basket_date  basket_count\n",
       "0     42366585    41475073  2019-06-19             2\n",
       "1     35956841    43279538  2019-06-19             2\n",
       "2     26139578    31715598  2019-06-19             3\n",
       "3      3262253    47880260  2019-06-19             2\n",
       "4     20056678    44747002  2019-06-19             2"
      ]
     },
     "execution_count": 10,
     "metadata": {},
     "output_type": "execute_result"
    }
   ],
   "source": [
    "df_basket = pd.read_csv('basket_details.csv')\n",
    "df_basket.head()"
   ]
  },
  {
   "cell_type": "code",
   "execution_count": 11,
   "id": "094ff680-547a-40f8-9f84-9e863b9dadd7",
   "metadata": {},
   "outputs": [
    {
     "name": "stdout",
     "output_type": "stream",
     "text": [
      "<class 'pandas.core.frame.DataFrame'>\n",
      "RangeIndex: 15000 entries, 0 to 14999\n",
      "Data columns (total 4 columns):\n",
      " #   Column        Non-Null Count  Dtype \n",
      "---  ------        --------------  ----- \n",
      " 0   customer_id   15000 non-null  int64 \n",
      " 1   product_id    15000 non-null  int64 \n",
      " 2   basket_date   15000 non-null  object\n",
      " 3   basket_count  15000 non-null  int64 \n",
      "dtypes: int64(3), object(1)\n",
      "memory usage: 468.9+ KB\n"
     ]
    }
   ],
   "source": [
    "df_basket.info()"
   ]
  },
  {
   "cell_type": "markdown",
   "id": "6d7e3ff1-6566-4916-aaf9-13f91c20cd2f",
   "metadata": {},
   "source": [
    "Tranformar a coluna 'basket_date' em datetime Dtype para melhor uso"
   ]
  },
  {
   "cell_type": "code",
   "execution_count": 12,
   "id": "3221bdac-83df-4388-a94c-51a7945cf674",
   "metadata": {},
   "outputs": [
    {
     "data": {
      "text/plain": [
       "customer_id              int64\n",
       "product_id               int64\n",
       "basket_date     datetime64[ns]\n",
       "basket_count             int64\n",
       "dtype: object"
      ]
     },
     "execution_count": 12,
     "metadata": {},
     "output_type": "execute_result"
    }
   ],
   "source": [
    "df_basket['basket_date'] = pd.to_datetime(df_basket['basket_date'], errors='coerce')\n",
    "df_basket.dtypes"
   ]
  },
  {
   "cell_type": "markdown",
   "id": "4d79236a-3418-4932-b1a7-38d67ca792ee",
   "metadata": {},
   "source": [
    "Nova coluna para representar as compras no mes-ano, para ter uma melhor analise dos dados depois"
   ]
  },
  {
   "cell_type": "code",
   "execution_count": 13,
   "id": "d782f590-664a-4890-b18f-d4c272448536",
   "metadata": {},
   "outputs": [],
   "source": [
    "df_basket['year_month'] = df_basket['basket_date'].dt.to_period('M').astype(str)"
   ]
  },
  {
   "cell_type": "code",
   "execution_count": 14,
   "id": "3dadbc15-bb7a-43e8-aa1d-188464d3384a",
   "metadata": {},
   "outputs": [
    {
     "name": "stdout",
     "output_type": "stream",
     "text": [
      "<class 'pandas.core.frame.DataFrame'>\n",
      "RangeIndex: 15000 entries, 0 to 14999\n",
      "Data columns (total 5 columns):\n",
      " #   Column        Non-Null Count  Dtype         \n",
      "---  ------        --------------  -----         \n",
      " 0   customer_id   15000 non-null  int64         \n",
      " 1   product_id    15000 non-null  int64         \n",
      " 2   basket_date   15000 non-null  datetime64[ns]\n",
      " 3   basket_count  15000 non-null  int64         \n",
      " 4   year_month    15000 non-null  object        \n",
      "dtypes: datetime64[ns](1), int64(3), object(1)\n",
      "memory usage: 586.1+ KB\n"
     ]
    }
   ],
   "source": [
    "df_basket.info()"
   ]
  },
  {
   "cell_type": "code",
   "execution_count": 15,
   "id": "9a70c24d-5b42-4d88-bc23-f3382de3a01e",
   "metadata": {},
   "outputs": [
    {
     "data": {
      "text/plain": [
       "(10, 2)"
      ]
     },
     "execution_count": 15,
     "metadata": {},
     "output_type": "execute_result"
    }
   ],
   "source": [
    "df_basket.basket_count.max(),df_basket.basket_count.min()"
   ]
  },
  {
   "cell_type": "code",
   "execution_count": 16,
   "id": "75819afc-ac91-4fc6-9673-43e71541e535",
   "metadata": {},
   "outputs": [
    {
     "data": {
      "text/plain": [
       "year_month\n",
       "2019-05    19209\n",
       "2019-06    13097\n",
       "Name: basket_count, dtype: int64"
      ]
     },
     "execution_count": 16,
     "metadata": {},
     "output_type": "execute_result"
    }
   ],
   "source": [
    "# Produtos comprados por mes\n",
    "monthly_sales = df_basket.groupby('year_month')['basket_count'].sum()\n",
    "monthly_sales"
   ]
  },
  {
   "cell_type": "code",
   "execution_count": 17,
   "id": "6aee9c91-3d53-4e69-9a95-89be4eafdef7",
   "metadata": {},
   "outputs": [
    {
     "data": {
      "text/plain": [
       "customer_id\n",
       "8276934     29\n",
       "7097820     18\n",
       "11082470    17\n",
       "11732494    14\n",
       "22988999    14\n",
       "Name: basket_count, dtype: int64"
      ]
     },
     "execution_count": 17,
     "metadata": {},
     "output_type": "execute_result"
    }
   ],
   "source": [
    "# Total de compras feitas por clientes\n",
    "customer_sales = df_basket.groupby('customer_id')['basket_count'].sum().sort_values(ascending = False)\n",
    "customer_sales.head()"
   ]
  },
  {
   "cell_type": "markdown",
   "id": "5abb2dd0-9575-4a6d-8872-3009637649e0",
   "metadata": {},
   "source": [
    "Salvando os arquivos limpos e prontos para analise"
   ]
  },
  {
   "cell_type": "code",
   "execution_count": 18,
   "id": "f6c77333-8e11-43d6-ad20-70ad04509cf1",
   "metadata": {},
   "outputs": [],
   "source": [
    "df_basket.to_csv('basket_clean.csv', index=False)\n",
    "df_customers.to_csv('customer_clean.csv', index=False)"
   ]
  }
 ],
 "metadata": {
  "kernelspec": {
   "display_name": "Python 3 (ipykernel)",
   "language": "python",
   "name": "python3"
  },
  "language_info": {
   "codemirror_mode": {
    "name": "ipython",
    "version": 3
   },
   "file_extension": ".py",
   "mimetype": "text/x-python",
   "name": "python",
   "nbconvert_exporter": "python",
   "pygments_lexer": "ipython3",
   "version": "3.11.7"
  }
 },
 "nbformat": 4,
 "nbformat_minor": 5
}
